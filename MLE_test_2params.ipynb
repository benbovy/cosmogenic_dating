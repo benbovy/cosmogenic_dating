{
 "metadata": {
  "name": "",
  "signature": "sha256:c65b1e12df4a5c4d7a9d7a4275107ef0d87ee84dcd39335e37ff1054c208c90a"
 },
 "nbformat": 3,
 "nbformat_minor": 0,
 "worksheets": [
  {
   "cells": [
    {
     "cell_type": "heading",
     "level": 1,
     "metadata": {},
     "source": [
      "Maximum Likelihood Estimation - Test case - 2 free parameters"
     ]
    },
    {
     "cell_type": "markdown",
     "metadata": {},
     "source": [
      "An example of applying the MLE approach with 2 free parameters (soil density and inheritance are fixed), using the [lmfit](http://lmfit.github.io/lmfit-py/) package. This package implements chi-square minimization for non-linear models, which is equivalent to MLE for this problem.\n",
      "\n",
      "For more info about the method used, see the notebook [Inference_Notes](Inference_Notes.ipynb).\n",
      "\n",
      "This example (a test case) is based on a generic dataset of 10Be concentration vs. depth, which is drawn from a distribution with given \"true\" parameters.\n",
      "\n",
      "This notebook has the following external dependencies:"
     ]
    },
    {
     "cell_type": "code",
     "collapsed": false,
     "input": [
      "import math\n",
      "\n",
      "import numpy as np\n",
      "import pandas as pd\n",
      "import matplotlib.pyplot as plt\n",
      "import lmfit\n",
      "import seaborn as sns\n",
      "\n",
      "%matplotlib inline"
     ],
     "language": "python",
     "metadata": {},
     "outputs": [],
     "prompt_number": 1
    },
    {
     "cell_type": "heading",
     "level": 2,
     "metadata": {},
     "source": [
      "The mathematical (Predictive) Model"
     ]
    },
    {
     "cell_type": "markdown",
     "metadata": {},
     "source": [
      "The dataset is generated using the following true parameter values"
     ]
    },
    {
     "cell_type": "code",
     "collapsed": false,
     "input": [
      "import models"
     ],
     "language": "python",
     "metadata": {},
     "outputs": [],
     "prompt_number": 2
    },
    {
     "cell_type": "heading",
     "level": 2,
     "metadata": {},
     "source": [
      "The Data"
     ]
    },
    {
     "cell_type": "markdown",
     "metadata": {},
     "source": [
      "The `gendata` Python module is used to generate the dataset (see the notebook [Datasets](Datasets.ipynb))."
     ]
    },
    {
     "cell_type": "code",
     "collapsed": false,
     "input": [
      "# the true parameters \n",
      "true_erosion = 1e-3\n",
      "true_exposure = 1e5\n",
      "\n",
      "# fixed parameters\n",
      "fixed_density = 2.0\n",
      "fixed_inheritance = 0.\n",
      "\n",
      "# depths and sample size\n",
      "depth_minmax = [50, 500]\n",
      "N = 30\n",
      "\n",
      "# perturbations\n",
      "err_magnitude = 20.\n",
      "err_variability = 5."
     ],
     "language": "python",
     "metadata": {},
     "outputs": [],
     "prompt_number": 3
    },
    {
     "cell_type": "markdown",
     "metadata": {},
     "source": [
      "The `gendata` Python module is used to generate the dataset (see the notebook [Datasets](Datasets.ipynb))."
     ]
    },
    {
     "cell_type": "code",
     "collapsed": false,
     "input": [
      "import gendata\n",
      "\n",
      "profile_data = gendata.generate_dataset(\n",
      "    models.C_10Be,\n",
      "    [true_erosion, true_exposure, fixed_density, fixed_inheritance],\n",
      "    zlimits=depth_minmax,\n",
      "    n=N,\n",
      "    err=[err_magnitude, err_variability]\n",
      ")\n",
      "\n",
      "profile_data"
     ],
     "language": "python",
     "metadata": {},
     "outputs": [
      {
       "html": [
        "<div style=\"max-height:1000px;max-width:1500px;overflow:auto;\">\n",
        "<table border=\"1\" class=\"dataframe\">\n",
        "  <thead>\n",
        "    <tr style=\"text-align: right;\">\n",
        "      <th></th>\n",
        "      <th>depth</th>\n",
        "      <th>C</th>\n",
        "      <th>std</th>\n",
        "    </tr>\n",
        "  </thead>\n",
        "  <tbody>\n",
        "    <tr>\n",
        "      <th>0 </th>\n",
        "      <td>  50.000000</td>\n",
        "      <td> 156014.242708</td>\n",
        "      <td> 4227.672408</td>\n",
        "    </tr>\n",
        "    <tr>\n",
        "      <th>1 </th>\n",
        "      <td>  65.517241</td>\n",
        "      <td> 126583.204995</td>\n",
        "      <td> 3571.375199</td>\n",
        "    </tr>\n",
        "    <tr>\n",
        "      <th>2 </th>\n",
        "      <td>  81.034483</td>\n",
        "      <td>  95759.286561</td>\n",
        "      <td> 5402.679723</td>\n",
        "    </tr>\n",
        "    <tr>\n",
        "      <th>3 </th>\n",
        "      <td>  96.551724</td>\n",
        "      <td> 104846.238712</td>\n",
        "      <td> 6145.589660</td>\n",
        "    </tr>\n",
        "    <tr>\n",
        "      <th>4 </th>\n",
        "      <td> 112.068966</td>\n",
        "      <td>  71148.598973</td>\n",
        "      <td> 7347.499093</td>\n",
        "    </tr>\n",
        "    <tr>\n",
        "      <th>5 </th>\n",
        "      <td> 127.586207</td>\n",
        "      <td>  71506.417829</td>\n",
        "      <td> 4754.698483</td>\n",
        "    </tr>\n",
        "    <tr>\n",
        "      <th>6 </th>\n",
        "      <td> 143.103448</td>\n",
        "      <td>  60387.142752</td>\n",
        "      <td> 4588.513302</td>\n",
        "    </tr>\n",
        "    <tr>\n",
        "      <th>7 </th>\n",
        "      <td> 158.620690</td>\n",
        "      <td>  46929.931191</td>\n",
        "      <td> 4566.520236</td>\n",
        "    </tr>\n",
        "    <tr>\n",
        "      <th>8 </th>\n",
        "      <td> 174.137931</td>\n",
        "      <td>  43047.274717</td>\n",
        "      <td> 5474.154989</td>\n",
        "    </tr>\n",
        "    <tr>\n",
        "      <th>9 </th>\n",
        "      <td> 189.655172</td>\n",
        "      <td>  34214.363147</td>\n",
        "      <td> 4037.187316</td>\n",
        "    </tr>\n",
        "    <tr>\n",
        "      <th>10</th>\n",
        "      <td> 205.172414</td>\n",
        "      <td>  27657.094132</td>\n",
        "      <td> 4321.698254</td>\n",
        "    </tr>\n",
        "    <tr>\n",
        "      <th>11</th>\n",
        "      <td> 220.689655</td>\n",
        "      <td>  25680.920984</td>\n",
        "      <td> 2964.600724</td>\n",
        "    </tr>\n",
        "    <tr>\n",
        "      <th>12</th>\n",
        "      <td> 236.206897</td>\n",
        "      <td>  28235.147199</td>\n",
        "      <td> 3432.169702</td>\n",
        "    </tr>\n",
        "    <tr>\n",
        "      <th>13</th>\n",
        "      <td> 251.724138</td>\n",
        "      <td>  12861.687525</td>\n",
        "      <td> 1874.088853</td>\n",
        "    </tr>\n",
        "    <tr>\n",
        "      <th>14</th>\n",
        "      <td> 267.241379</td>\n",
        "      <td>  17386.712152</td>\n",
        "      <td> 1848.073489</td>\n",
        "    </tr>\n",
        "    <tr>\n",
        "      <th>15</th>\n",
        "      <td> 282.758621</td>\n",
        "      <td>  17339.599282</td>\n",
        "      <td> 1723.271906</td>\n",
        "    </tr>\n",
        "    <tr>\n",
        "      <th>16</th>\n",
        "      <td> 298.275862</td>\n",
        "      <td>  17279.628470</td>\n",
        "      <td> 3238.563171</td>\n",
        "    </tr>\n",
        "    <tr>\n",
        "      <th>17</th>\n",
        "      <td> 313.793103</td>\n",
        "      <td>  15496.604824</td>\n",
        "      <td> 1819.729012</td>\n",
        "    </tr>\n",
        "    <tr>\n",
        "      <th>18</th>\n",
        "      <td> 329.310345</td>\n",
        "      <td>  15133.305987</td>\n",
        "      <td> 2076.297850</td>\n",
        "    </tr>\n",
        "    <tr>\n",
        "      <th>19</th>\n",
        "      <td> 344.827586</td>\n",
        "      <td>  14230.335335</td>\n",
        "      <td> 3032.005288</td>\n",
        "    </tr>\n",
        "    <tr>\n",
        "      <th>20</th>\n",
        "      <td> 360.344828</td>\n",
        "      <td>  10680.077347</td>\n",
        "      <td> 1618.137610</td>\n",
        "    </tr>\n",
        "    <tr>\n",
        "      <th>21</th>\n",
        "      <td> 375.862069</td>\n",
        "      <td>   7753.571063</td>\n",
        "      <td> 1235.788503</td>\n",
        "    </tr>\n",
        "    <tr>\n",
        "      <th>22</th>\n",
        "      <td> 391.379310</td>\n",
        "      <td>  11005.429020</td>\n",
        "      <td> 2034.369312</td>\n",
        "    </tr>\n",
        "    <tr>\n",
        "      <th>23</th>\n",
        "      <td> 406.896552</td>\n",
        "      <td>   8409.211399</td>\n",
        "      <td> 1870.467510</td>\n",
        "    </tr>\n",
        "    <tr>\n",
        "      <th>24</th>\n",
        "      <td> 422.413793</td>\n",
        "      <td>   6448.310732</td>\n",
        "      <td> 1823.961096</td>\n",
        "    </tr>\n",
        "    <tr>\n",
        "      <th>25</th>\n",
        "      <td> 437.931034</td>\n",
        "      <td>   5710.982585</td>\n",
        "      <td> 1545.511152</td>\n",
        "    </tr>\n",
        "    <tr>\n",
        "      <th>26</th>\n",
        "      <td> 453.448276</td>\n",
        "      <td>   8149.608919</td>\n",
        "      <td> 2509.640326</td>\n",
        "    </tr>\n",
        "    <tr>\n",
        "      <th>27</th>\n",
        "      <td> 468.965517</td>\n",
        "      <td>   7198.849297</td>\n",
        "      <td>  851.008453</td>\n",
        "    </tr>\n",
        "    <tr>\n",
        "      <th>28</th>\n",
        "      <td> 484.482759</td>\n",
        "      <td>   7960.813410</td>\n",
        "      <td> 1743.290417</td>\n",
        "    </tr>\n",
        "    <tr>\n",
        "      <th>29</th>\n",
        "      <td> 500.000000</td>\n",
        "      <td>   7008.695301</td>\n",
        "      <td> 1936.426733</td>\n",
        "    </tr>\n",
        "  </tbody>\n",
        "</table>\n",
        "<p>30 rows \u00d7 3 columns</p>\n",
        "</div>"
       ],
       "metadata": {},
       "output_type": "pyout",
       "prompt_number": 4,
       "text": [
        "         depth              C          std\n",
        "0    50.000000  156014.242708  4227.672408\n",
        "1    65.517241  126583.204995  3571.375199\n",
        "2    81.034483   95759.286561  5402.679723\n",
        "3    96.551724  104846.238712  6145.589660\n",
        "4   112.068966   71148.598973  7347.499093\n",
        "5   127.586207   71506.417829  4754.698483\n",
        "6   143.103448   60387.142752  4588.513302\n",
        "7   158.620690   46929.931191  4566.520236\n",
        "8   174.137931   43047.274717  5474.154989\n",
        "9   189.655172   34214.363147  4037.187316\n",
        "10  205.172414   27657.094132  4321.698254\n",
        "11  220.689655   25680.920984  2964.600724\n",
        "12  236.206897   28235.147199  3432.169702\n",
        "13  251.724138   12861.687525  1874.088853\n",
        "14  267.241379   17386.712152  1848.073489\n",
        "15  282.758621   17339.599282  1723.271906\n",
        "16  298.275862   17279.628470  3238.563171\n",
        "17  313.793103   15496.604824  1819.729012\n",
        "18  329.310345   15133.305987  2076.297850\n",
        "19  344.827586   14230.335335  3032.005288\n",
        "20  360.344828   10680.077347  1618.137610\n",
        "21  375.862069    7753.571063  1235.788503\n",
        "22  391.379310   11005.429020  2034.369312\n",
        "23  406.896552    8409.211399  1870.467510\n",
        "24  422.413793    6448.310732  1823.961096\n",
        "25  437.931034    5710.982585  1545.511152\n",
        "26  453.448276    8149.608919  2509.640326\n",
        "27  468.965517    7198.849297   851.008453\n",
        "28  484.482759    7960.813410  1743.290417\n",
        "29  500.000000    7008.695301  1936.426733\n",
        "\n",
        "[30 rows x 3 columns]"
       ]
      }
     ],
     "prompt_number": 4
    },
    {
     "cell_type": "markdown",
     "metadata": {},
     "source": [
      "The dataset is stored as a :class:`pandas.DataFrame` object."
     ]
    },
    {
     "cell_type": "heading",
     "level": 2,
     "metadata": {},
     "source": [
      "Fitting the model"
     ]
    },
    {
     "cell_type": "markdown",
     "metadata": {},
     "source": [
      "The default optimization method used by lmfit is the \u201cleastsq\u201d function of the scipy's [optimize](http://docs.scipy.org/doc/scipy/reference/optimize.html) package. This function is a wrapper around MINPACK\u2019s lmdif and lmder algorithms. Using this method, we must provide the array of the normalized residuals rather than the chi-square. "
     ]
    },
    {
     "cell_type": "code",
     "collapsed": false,
     "input": [
      "def residuals(params):\n",
      "    \"\"\"\n",
      "    Normalized residuals (to be used\n",
      "    with the `lmfit` package).\n",
      "    \n",
      "    \"\"\"\n",
      "    erosion = params['erosion_rate'].value\n",
      "    exposure = params['exposure_time'].value\n",
      "    \n",
      "    C_mod = models.C_10Be(profile_data['depth'],\n",
      "                          erosion, exposure,\n",
      "                          fixed_density, fixed_inheritance)\n",
      "    \n",
      "    return (C_mod - profile_data['C']) / profile_data['std']\n",
      "    "
     ],
     "language": "python",
     "metadata": {},
     "outputs": [],
     "prompt_number": 5
    },
    {
     "cell_type": "markdown",
     "metadata": {},
     "source": [
      "Define the parameters to fit, with an initial value (needed for optimization) and optionally bounds."
     ]
    },
    {
     "cell_type": "code",
     "collapsed": false,
     "input": [
      "params = lmfit.Parameters()\n",
      "params.add('erosion_rate',   value=1e-3, min=0.)\n",
      "params.add('exposure_time', value=1e5, min=0.)"
     ],
     "language": "python",
     "metadata": {},
     "outputs": [],
     "prompt_number": 6
    },
    {
     "cell_type": "markdown",
     "metadata": {},
     "source": [
      "Fit the model"
     ]
    },
    {
     "cell_type": "code",
     "collapsed": false,
     "input": [
      "res = lmfit.minimize(residuals, params, ftol=1e-4, xtol=1e-4)"
     ],
     "language": "python",
     "metadata": {},
     "outputs": [],
     "prompt_number": 7
    },
    {
     "cell_type": "markdown",
     "metadata": {},
     "source": [
      "Report the results (the MLE values for each parameter and the estimation of standard errors / correlations based on the Gaussian approximation of the MLE distribution)"
     ]
    },
    {
     "cell_type": "code",
     "collapsed": false,
     "input": [
      "lmfit.report_fit(params)"
     ],
     "language": "python",
     "metadata": {},
     "outputs": [
      {
       "output_type": "stream",
       "stream": "stdout",
       "text": [
        "[[Variables]]\n",
        "     erosion_rate:      0.00106598 +/- 0.0001087535 (10.20%) initial =  0.001\n",
        "     exposure_time:     105020.3 +/- 9199.986 (8.76%) initial =  100000\n",
        "[[Correlations]] (unreported correlations are <  0.100)\n",
        "    C(erosion_rate, exposure_time)  =  0.918 \n"
       ]
      }
     ],
     "prompt_number": 8
    },
    {
     "cell_type": "markdown",
     "metadata": {},
     "source": [
      "Print some info and output messages from the optimization process"
     ]
    },
    {
     "cell_type": "code",
     "collapsed": false,
     "input": [
      "print res.success\n",
      "print res.nfev      # number of function evaluations during optimization\n",
      "print res.lmdif_message\n",
      "print res.message"
     ],
     "language": "python",
     "metadata": {},
     "outputs": [
      {
       "output_type": "stream",
       "stream": "stdout",
       "text": [
        "True\n",
        "10\n",
        "Both actual and predicted relative reductions in the sum of squares\n",
        "  are at most 0.000100 and the relative error between two consecutive iterates is at \n",
        "  most 0.000100\n",
        "Tolerance seems to be too small.\n"
       ]
      }
     ],
     "prompt_number": 9
    },
    {
     "cell_type": "markdown",
     "metadata": {},
     "source": [
      "Chi-square, degrees of freedom and reduced chi-square values for MLE"
     ]
    },
    {
     "cell_type": "code",
     "collapsed": false,
     "input": [
      "print res.chisqr\n",
      "print res.nfree\n",
      "print res.redchi"
     ],
     "language": "python",
     "metadata": {},
     "outputs": [
      {
       "output_type": "stream",
       "stream": "stdout",
       "text": [
        "46.5425973864\n",
        "28\n",
        "1.66223562094\n"
       ]
      }
     ],
     "prompt_number": 10
    },
    {
     "cell_type": "markdown",
     "metadata": {},
     "source": [
      "A more accurate, direct calculation of the confidence intervals (using a method similar to the profile likelihood). Note that `-inf` values generally means that the CI limit has not been reached within the parameter space - if it is bounded by physically acceptable values - or within the range defined by MLE +/- 3 * standard error estimated by normal approximation (a warning messages appears because no root has been found during the inversion of the F-test)."
     ]
    },
    {
     "cell_type": "code",
     "collapsed": false,
     "input": [
      "ci, trace = lmfit.conf_interval(res, trace=True)\n",
      "\n",
      "lmfit.report_ci(ci)"
     ],
     "language": "python",
     "metadata": {},
     "outputs": [
      {
       "output_type": "stream",
       "stream": "stdout",
       "text": [
        "                 99.70%    95.00%    67.40%     0.00%    67.40%    95.00%    99.70%\n",
        "exposure_time76083.6145786562.9452295915.8421297123.05146114313.73312124274.72844135967.65107\n",
        " erosion_rate   0.00057   0.00079   0.00095   0.00107   0.00117   0.00126   0.00135\n"
       ]
      }
     ],
     "prompt_number": 11
    },
    {
     "cell_type": "markdown",
     "metadata": {},
     "source": [
      "Calculate and Plot the $1-\\alpha$ confidence regions (same method than the one used here above). Note that the interpolated contours of the confidence regions are approximative, depending on the (coarse) resolution of the grid used to calculate the p-values! The red lines indicate the true values."
     ]
    },
    {
     "cell_type": "code",
     "collapsed": false,
     "input": [
      "x, y, cr = lmfit.conf_interval2d(res,'erosion_rate', 'exposure_time', 30, 30,\n",
      "                                 limits=((0., 1.5e-3), (0., 1.3e5)))\n",
      "\n",
      "sns.set_style('darkgrid')\n",
      "sns.set_context('notebook')\n",
      "\n",
      "plt.contourf(x, y, cr, [0., 0.674, 0.95, 0.997, 1.],\n",
      "             cmap=plt.get_cmap('Blues'))\n",
      "plt.colorbar()\n",
      "plt.setp(plt.gca(),\n",
      "         xlabel='erosion rate [cm yr-1]',\n",
      "         ylabel='exposure time [yr]')\n",
      "plt.axhline(true_exposure, color='r')\n",
      "plt.axvline(true_erosion, color='r')"
     ],
     "language": "python",
     "metadata": {},
     "outputs": [
      {
       "metadata": {},
       "output_type": "pyout",
       "prompt_number": 14,
       "text": [
        "<matplotlib.collections.LineCollection at 0x7f3b92d2b1d0>"
       ]
      },
      {
       "metadata": {},
       "output_type": "display_data",
       "png": "[encoded data removed]",
       "text": [
        "<matplotlib.figure.Figure at 0x7f3b932e2890>"
       ]
      }
     ],
     "prompt_number": 14
    },
    {
     "cell_type": "markdown",
     "metadata": {},
     "source": [
      "Plot the measured concentrations and the predicted profile corresponding to the best fitted data model"
     ]
    },
    {
     "cell_type": "code",
     "collapsed": false,
     "input": [
      "depths = np.linspace(profile_data['depth'].min(),\n",
      "                     profile_data['depth'].max(),\n",
      "                     100)\n",
      "Cm_fitted = models.C_10Be(depths,\n",
      "                          res.values['erosion_rate'],\n",
      "                          res.values['exposure_time'],\n",
      "                          fixed_density,\n",
      "                          fixed_inheritance)\n",
      "\n",
      "Cm_true = models.C_10Be(depths, true_erosion, true_exposure,\n",
      "                        fixed_density, fixed_inheritance)\n",
      "\n",
      "plt.figure()\n",
      "plt.plot(Cm_fitted, -depths, label='best-fitted model')\n",
      "plt.plot(Cm_true, -depths, color='r', label='true model')\n",
      "plt.errorbar(profile_data['C'],\n",
      "             -profile_data['depth'],\n",
      "             xerr=profile_data['std'],\n",
      "             fmt='o', markersize=4,\n",
      "             label='data')\n",
      "plt.setp(plt.gca(),\n",
      "         xlabel='10Be concentration [atoms g-1]',\n",
      "         ylabel='-1 * depth [cm]',\n",
      "         xlim=[0, None], ylim=[None, 0])\n",
      "\n",
      "plt.legend(loc='lower right')"
     ],
     "language": "python",
     "metadata": {},
     "outputs": [
      {
       "metadata": {},
       "output_type": "pyout",
       "prompt_number": 13,
       "text": [
        "<matplotlib.legend.Legend at 0x7f3b9316e0d0>"
       ]
      },
      {
       "metadata": {},
       "output_type": "display_data",
       "png": "[encoded data removed]",
       "text": [
        "<matplotlib.figure.Figure at 0x7f3b931d1610>"
       ]
      }
     ],
     "prompt_number": 13
    },
    {
     "cell_type": "heading",
     "level": 2,
     "metadata": {},
     "source": [
      "Observations"
     ]
    },
    {
     "cell_type": "markdown",
     "metadata": {},
     "source": [
      "*2 free parameters*\n",
      "\n",
      "The results obtained here seem to be consistent with MLE with 2 parameters usign the Grid-Search method (see the notebook [GS_test_2params](GS_test_2params.ipynb))."
     ]
    },
    {
     "cell_type": "code",
     "collapsed": false,
     "input": [],
     "language": "python",
     "metadata": {},
     "outputs": []
    }
   ],
   "metadata": {}
  }
 ]
}