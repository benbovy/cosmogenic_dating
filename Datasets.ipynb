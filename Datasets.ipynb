{
 "metadata": {
  "name": "",
  "signature": "sha256:da07baf5aa4c70b1675c5d48d63dc8b1a1ea2b72c6e72b002369106a9d3ec090"
 },
 "nbformat": 3,
 "nbformat_minor": 0,
 "worksheets": [
  {
   "cells": [
    {
     "cell_type": "heading",
     "level": 1,
     "metadata": {},
     "source": [
      "Datasets of nucleide concentration vs. depth"
     ]
    },
    {
     "cell_type": "markdown",
     "metadata": {},
     "source": [
      "Tools for creating generic datasets for testing + some real datasets."
     ]
    },
    {
     "cell_type": "heading",
     "level": 2,
     "metadata": {},
     "source": [
      "Generic datasets"
     ]
    },
    {
     "cell_type": "markdown",
     "metadata": {},
     "source": [
      "Generate concentration vs. depth values from a model and add random perturbations.\n",
      "\n",
      "Realistic perturbations have each a stochastic component and a deterministic component (depends on the concentration value). Each perturbation is thus generated using a Gaussian of $\\mu_p = 0$ and $\\sigma_p$ given by another Gaussian:\n",
      "- $\\mu$ = $\\sqrt{C}$ * `err_magnitude`\n",
      "- $\\sigma$ = $\\sqrt{C}$ * `err_variability`\n",
      "\n",
      "The generated dataset is returned in a :class:`pandas.DataFrame` object. The following code is saved as the Python module `gendata` so that it can be re-used in other notebooks. "
     ]
    },
    {
     "cell_type": "code",
     "collapsed": false,
     "input": [
      "%%writefile gendata.py\n",
      "\n",
      "\"\"\"\n",
      "Create generic datasets of nucleide concentration.\n",
      "\n",
      "\"\"\"\n",
      "\n",
      "import numpy as np\n",
      "import pandas as pd\n",
      "\n",
      "import models\n",
      "\n",
      "\n",
      "def generate_dataset(model, model_args, model_kwargs=None,\n",
      "                     zlimits=[50, 500], n=10,\n",
      "                     err=[20., 5.]):\n",
      "    \"\"\"\n",
      "    Create a generic dataset of nucleide concentration\n",
      "    vs. depth (for testing).\n",
      "    \n",
      "    Parameters\n",
      "    ----------\n",
      "    model : callable\n",
      "        the model to use for generating the data\n",
      "    model_args : list, tuple\n",
      "        arguments to pass to `model`\n",
      "    model_kwargs : dict\n",
      "        keyword arguments to pass to `model`\n",
      "    zlimits : [float, float]\n",
      "        depths min and max values\n",
      "    n : int\n",
      "        sample size\n",
      "    err : float or [float, float]\n",
      "        fixed error (one value given) or\n",
      "        error magnitude and error variability\n",
      "        (two values given, see below)\n",
      "    \n",
      "    Returns\n",
      "    -------\n",
      "    :class:`pandas.DataFrame` object\n",
      "    \n",
      "    Notes\n",
      "    -----\n",
      "    The returned dataset corresponds to\n",
      "    concentration values predicted by\n",
      "    the model + random perturbations.\n",
      "    \n",
      "    When one value is given for `err`, the\n",
      "    parturbations are all generated using a\n",
      "    Gaussian of mu=0 and sigma=fixed error.\n",
      "    \n",
      "    When two values are given for `err`, each\n",
      "    perturbation is generated using a Gaussian\n",
      "    of mu=0 and sigma given by another Gaussian: \n",
      "    \n",
      "    mu =  sqrt(concentration) * error magnitude\n",
      "    sigma = sqrt(concentration) * error variability\n",
      "    \n",
      "    \"\"\"\n",
      "\n",
      "    zmin, zmax = zlimits\n",
      "    model_kwargs = model_kwargs or dict()\n",
      "    \n",
      "    depths = np.linspace(zmin, zmax, n)\n",
      "    \n",
      "    profile_data = pd.DataFrame()\n",
      "\n",
      "    profile_data['depth'] = depths\n",
      "    profile_data['C'] = model(profile_data['depth'],\n",
      "                              *model_args,\n",
      "                              **model_kwargs)\n",
      "\n",
      "    try:\n",
      "        err_magn, err_var = err\n",
      "        \n",
      "        err_mu = err_magn * np.sqrt(profile_data['C'])\n",
      "        err_sigma = err_var * np.sqrt(profile_data['C'])\n",
      "\n",
      "        profile_data['std'] = np.array(\n",
      "            [np.random.normal(loc=mu, scale=sigma)\n",
      "             for mu, sigma in zip(err_mu, err_sigma)]\n",
      "            )\n",
      "    except TypeError:\n",
      "        profile_data['std'] = np.ones_like(depths) * err\n",
      "\n",
      "    error = np.array([np.random.normal(scale=std)\n",
      "                      for std in profile_data['std']])\n",
      "    profile_data['C'] += error\n",
      "    \n",
      "    return profile_data\n"
     ],
     "language": "python",
     "metadata": {},
     "outputs": [
      {
       "output_type": "stream",
       "stream": "stdout",
       "text": [
        "Overwriting gendata.py\n"
       ]
      }
     ],
     "prompt_number": 1
    },
    {
     "cell_type": "heading",
     "level": 2,
     "metadata": {},
     "source": [
      "Real datasets"
     ]
    },
    {
     "cell_type": "markdown",
     "metadata": {},
     "source": [
      "Create a folder to save the dataset files."
     ]
    },
    {
     "cell_type": "code",
     "collapsed": false,
     "input": [
      "%mkdir profiles_data"
     ],
     "language": "python",
     "metadata": {},
     "outputs": [
      {
       "output_type": "stream",
       "stream": "stdout",
       "text": [
        "mkdir: cannot create directory `profiles_data': File exists\r\n"
       ]
      }
     ],
     "prompt_number": 2
    },
    {
     "cell_type": "heading",
     "level": 3,
     "metadata": {},
     "source": [
      "Belleroche 10Be"
     ]
    },
    {
     "cell_type": "markdown",
     "metadata": {},
     "source": [
      "Dataset collected in the Ambl\u00e8ve valley (NE Belgium). See [Rixhon et al., 2011][1]\n",
      "\n",
      "[1]: http://dx.doi.org/10.1016/j.quageo.2010.11.001"
     ]
    },
    {
     "cell_type": "code",
     "collapsed": false,
     "input": [
      "%%writefile profiles_data/belleroche_10Be_profile_data.csv\n",
      "\"sample\" \"depth\" \"depth_g-cm-2\" \"C\" \"std\" \"nucleide\"\n",
      "\"s01\" 300 643 46216  1728 \"10Be\"\n",
      "\"s02\" 200 429 64965  2275 \"10Be\"\n",
      "\"s03\" 150 322 128570 2766 \"10Be\"\n",
      "\"s04\" 100 214 191825 3303 \"10Be\"\n",
      "\"s05\" 60  129 323967 5454 \"10Be\""
     ],
     "language": "python",
     "metadata": {},
     "outputs": [
      {
       "output_type": "stream",
       "stream": "stdout",
       "text": [
        "Overwriting profiles_data/belleroche_10Be_profile_data.csv\n"
       ]
      }
     ],
     "prompt_number": 1
    },
    {
     "cell_type": "code",
     "collapsed": false,
     "input": [
      "%%writefile profiles_data/belleroche_10Be_settings.yaml\n",
      "# nucleide surface production rate\n",
      "P_0: 5.3\n",
      "\n",
      "# sample site latitude [degrees]\n",
      "latitude: 50.48\n",
      "\n",
      "# sample site altitude [meters]\n",
      "altitude: 153.0\n",
      "\n",
      "# pressure [hPa]\n",
      "pressure: 995.004"
     ],
     "language": "python",
     "metadata": {},
     "outputs": [
      {
       "output_type": "stream",
       "stream": "stdout",
       "text": [
        "Overwriting profiles_data/belleroche_10Be_settings.yaml\n"
       ]
      }
     ],
     "prompt_number": 4
    },
    {
     "cell_type": "code",
     "collapsed": false,
     "input": [],
     "language": "python",
     "metadata": {},
     "outputs": [],
     "prompt_number": 4
    }
   ],
   "metadata": {}
  }
 ]
}