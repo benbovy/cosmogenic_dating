{
 "metadata": {
  "name": "",
  "signature": "sha256:7e2265fe8e3a09e26f0bcccb12de5f997840ff1b039ab1b04bdad74f7dacef65"
 },
 "nbformat": 3,
 "nbformat_minor": 0,
 "worksheets": [
  {
   "cells": [
    {
     "cell_type": "heading",
     "level": 1,
     "metadata": {},
     "source": [
      "Grid Search - Test case - 2 free parameters"
     ]
    },
    {
     "cell_type": "markdown",
     "metadata": {},
     "source": [
      "An example of applying MLE with 2 free parameters only (erosion rate and exposure time), using the grid search method.\n",
      "\n",
      "For more info about the method used, see the notebook [Inference_Notes](Inference_Notes.ipynb).\n",
      "\n",
      "This example (a test case) is based on a generic dataset of 10Be concentration vs. depth, which is drawn from a distribution with given \"true\" parameters.\n",
      "\n",
      "This notebook has the following external dependencies:"
     ]
    },
    {
     "cell_type": "code",
     "collapsed": false,
     "input": [
      "import math\n",
      "\n",
      "import numpy as np\n",
      "import pandas as pd\n",
      "import matplotlib.pyplot as plt\n",
      "from scipy import stats\n",
      "import seaborn as sns\n",
      "\n",
      "%matplotlib inline"
     ],
     "language": "python",
     "metadata": {},
     "outputs": [],
     "prompt_number": 1
    },
    {
     "cell_type": "heading",
     "level": 2,
     "metadata": {},
     "source": [
      "The mathematical (Predictive) Model"
     ]
    },
    {
     "cell_type": "markdown",
     "metadata": {},
     "source": [
      "The mathematical model is available in the `models` Python module (see the notebook [Models](Models.ipynb))"
     ]
    },
    {
     "cell_type": "code",
     "collapsed": false,
     "input": [
      "import models"
     ],
     "language": "python",
     "metadata": {},
     "outputs": [],
     "prompt_number": 2
    },
    {
     "cell_type": "heading",
     "level": 2,
     "metadata": {},
     "source": [
      "The Data"
     ]
    },
    {
     "cell_type": "markdown",
     "metadata": {},
     "source": [
      "The dataset is generated using the following true parameter values"
     ]
    },
    {
     "cell_type": "code",
     "collapsed": false,
     "input": [
      "# the true parameters \n",
      "true_erosion = 1e-3\n",
      "true_exposure = 1e5\n",
      "\n",
      "# fixed parameters\n",
      "fixed_density = 2.0\n",
      "fixed_inheritance = 0.\n",
      "\n",
      "# depths and sample size\n",
      "depth_minmax = [50, 500]\n",
      "N = 30\n",
      "\n",
      "# perturbations\n",
      "err_magnitude = 20.\n",
      "err_variability = 5."
     ],
     "language": "python",
     "metadata": {},
     "outputs": [],
     "prompt_number": 3
    },
    {
     "cell_type": "markdown",
     "metadata": {},
     "source": [
      "The `gendata` Python module is used to generate the dataset (see the notebook [Datasets](Datasets.ipynb))."
     ]
    },
    {
     "cell_type": "code",
     "collapsed": false,
     "input": [
      "import gendata\n",
      "\n",
      "profile_data = gendata.generate_dataset(\n",
      "    models.C_10Be,\n",
      "    [true_erosion, true_exposure, fixed_density, fixed_inheritance],\n",
      "    zlimits=depth_minmax,\n",
      "    n=N,\n",
      "    err=[err_magnitude, err_variability]\n",
      ")\n",
      "\n",
      "profile_data"
     ],
     "language": "python",
     "metadata": {},
     "outputs": [
      {
       "html": [
        "<div style=\"max-height:1000px;max-width:1500px;overflow:auto;\">\n",
        "<table border=\"1\" class=\"dataframe\">\n",
        "  <thead>\n",
        "    <tr style=\"text-align: right;\">\n",
        "      <th></th>\n",
        "      <th>depth</th>\n",
        "      <th>C</th>\n",
        "      <th>std</th>\n",
        "    </tr>\n",
        "  </thead>\n",
        "  <tbody>\n",
        "    <tr>\n",
        "      <th>0 </th>\n",
        "      <td>  50.000000</td>\n",
        "      <td> 155977.908401</td>\n",
        "      <td> 7089.943059</td>\n",
        "    </tr>\n",
        "    <tr>\n",
        "      <th>1 </th>\n",
        "      <td>  65.517241</td>\n",
        "      <td> 124417.222527</td>\n",
        "      <td> 7556.556188</td>\n",
        "    </tr>\n",
        "    <tr>\n",
        "      <th>2 </th>\n",
        "      <td>  81.034483</td>\n",
        "      <td> 103784.107834</td>\n",
        "      <td> 5947.080217</td>\n",
        "    </tr>\n",
        "    <tr>\n",
        "      <th>3 </th>\n",
        "      <td>  96.551724</td>\n",
        "      <td>  90589.550440</td>\n",
        "      <td> 5600.494598</td>\n",
        "    </tr>\n",
        "    <tr>\n",
        "      <th>4 </th>\n",
        "      <td> 112.068966</td>\n",
        "      <td>  84495.110605</td>\n",
        "      <td> 6459.338508</td>\n",
        "    </tr>\n",
        "    <tr>\n",
        "      <th>5 </th>\n",
        "      <td> 127.586207</td>\n",
        "      <td>  68094.675136</td>\n",
        "      <td> 3935.587768</td>\n",
        "    </tr>\n",
        "    <tr>\n",
        "      <th>6 </th>\n",
        "      <td> 143.103448</td>\n",
        "      <td>  56243.581776</td>\n",
        "      <td> 5512.315485</td>\n",
        "    </tr>\n",
        "    <tr>\n",
        "      <th>7 </th>\n",
        "      <td> 158.620690</td>\n",
        "      <td>  41172.090732</td>\n",
        "      <td> 3472.183237</td>\n",
        "    </tr>\n",
        "    <tr>\n",
        "      <th>8 </th>\n",
        "      <td> 174.137931</td>\n",
        "      <td>  40208.032148</td>\n",
        "      <td> 3819.413371</td>\n",
        "    </tr>\n",
        "    <tr>\n",
        "      <th>9 </th>\n",
        "      <td> 189.655172</td>\n",
        "      <td>  32389.742749</td>\n",
        "      <td> 1828.566268</td>\n",
        "    </tr>\n",
        "    <tr>\n",
        "      <th>10</th>\n",
        "      <td> 205.172414</td>\n",
        "      <td>  28302.172991</td>\n",
        "      <td> 3306.757831</td>\n",
        "    </tr>\n",
        "    <tr>\n",
        "      <th>11</th>\n",
        "      <td> 220.689655</td>\n",
        "      <td>  20248.003436</td>\n",
        "      <td> 3683.114280</td>\n",
        "    </tr>\n",
        "    <tr>\n",
        "      <th>12</th>\n",
        "      <td> 236.206897</td>\n",
        "      <td>  21371.717110</td>\n",
        "      <td> 2610.280918</td>\n",
        "    </tr>\n",
        "    <tr>\n",
        "      <th>13</th>\n",
        "      <td> 251.724138</td>\n",
        "      <td>  18847.053588</td>\n",
        "      <td> 2341.029296</td>\n",
        "    </tr>\n",
        "    <tr>\n",
        "      <th>14</th>\n",
        "      <td> 267.241379</td>\n",
        "      <td>  22287.325468</td>\n",
        "      <td> 2947.374344</td>\n",
        "    </tr>\n",
        "    <tr>\n",
        "      <th>15</th>\n",
        "      <td> 282.758621</td>\n",
        "      <td>  17714.355369</td>\n",
        "      <td> 1453.071392</td>\n",
        "    </tr>\n",
        "    <tr>\n",
        "      <th>16</th>\n",
        "      <td> 298.275862</td>\n",
        "      <td>  15452.685560</td>\n",
        "      <td> 1388.449329</td>\n",
        "    </tr>\n",
        "    <tr>\n",
        "      <th>17</th>\n",
        "      <td> 313.793103</td>\n",
        "      <td>  11105.194525</td>\n",
        "      <td> 2612.945488</td>\n",
        "    </tr>\n",
        "    <tr>\n",
        "      <th>18</th>\n",
        "      <td> 329.310345</td>\n",
        "      <td>   6311.091736</td>\n",
        "      <td> 2867.388163</td>\n",
        "    </tr>\n",
        "    <tr>\n",
        "      <th>19</th>\n",
        "      <td> 344.827586</td>\n",
        "      <td>   7791.938453</td>\n",
        "      <td> 1880.184986</td>\n",
        "    </tr>\n",
        "    <tr>\n",
        "      <th>20</th>\n",
        "      <td> 360.344828</td>\n",
        "      <td>   9908.565314</td>\n",
        "      <td> 1850.770860</td>\n",
        "    </tr>\n",
        "    <tr>\n",
        "      <th>21</th>\n",
        "      <td> 375.862069</td>\n",
        "      <td>  10438.750690</td>\n",
        "      <td> 2363.221780</td>\n",
        "    </tr>\n",
        "    <tr>\n",
        "      <th>22</th>\n",
        "      <td> 391.379310</td>\n",
        "      <td>   9699.409217</td>\n",
        "      <td> 1338.286404</td>\n",
        "    </tr>\n",
        "    <tr>\n",
        "      <th>23</th>\n",
        "      <td> 406.896552</td>\n",
        "      <td>   7693.693952</td>\n",
        "      <td> 1991.855197</td>\n",
        "    </tr>\n",
        "    <tr>\n",
        "      <th>24</th>\n",
        "      <td> 422.413793</td>\n",
        "      <td>   6364.890931</td>\n",
        "      <td> 2661.509273</td>\n",
        "    </tr>\n",
        "    <tr>\n",
        "      <th>25</th>\n",
        "      <td> 437.931034</td>\n",
        "      <td>   6573.955062</td>\n",
        "      <td> 1925.582892</td>\n",
        "    </tr>\n",
        "    <tr>\n",
        "      <th>26</th>\n",
        "      <td> 453.448276</td>\n",
        "      <td>   8675.610268</td>\n",
        "      <td> 2023.326955</td>\n",
        "    </tr>\n",
        "    <tr>\n",
        "      <th>27</th>\n",
        "      <td> 468.965517</td>\n",
        "      <td>   6741.533742</td>\n",
        "      <td> 1873.011451</td>\n",
        "    </tr>\n",
        "    <tr>\n",
        "      <th>28</th>\n",
        "      <td> 484.482759</td>\n",
        "      <td>   3132.369619</td>\n",
        "      <td> 1658.034144</td>\n",
        "    </tr>\n",
        "    <tr>\n",
        "      <th>29</th>\n",
        "      <td> 500.000000</td>\n",
        "      <td>   7269.100898</td>\n",
        "      <td> 2019.150967</td>\n",
        "    </tr>\n",
        "  </tbody>\n",
        "</table>\n",
        "<p>30 rows \u00d7 3 columns</p>\n",
        "</div>"
       ],
       "metadata": {},
       "output_type": "pyout",
       "prompt_number": 4,
       "text": [
        "         depth              C          std\n",
        "0    50.000000  155977.908401  7089.943059\n",
        "1    65.517241  124417.222527  7556.556188\n",
        "2    81.034483  103784.107834  5947.080217\n",
        "3    96.551724   90589.550440  5600.494598\n",
        "4   112.068966   84495.110605  6459.338508\n",
        "5   127.586207   68094.675136  3935.587768\n",
        "6   143.103448   56243.581776  5512.315485\n",
        "7   158.620690   41172.090732  3472.183237\n",
        "8   174.137931   40208.032148  3819.413371\n",
        "9   189.655172   32389.742749  1828.566268\n",
        "10  205.172414   28302.172991  3306.757831\n",
        "11  220.689655   20248.003436  3683.114280\n",
        "12  236.206897   21371.717110  2610.280918\n",
        "13  251.724138   18847.053588  2341.029296\n",
        "14  267.241379   22287.325468  2947.374344\n",
        "15  282.758621   17714.355369  1453.071392\n",
        "16  298.275862   15452.685560  1388.449329\n",
        "17  313.793103   11105.194525  2612.945488\n",
        "18  329.310345    6311.091736  2867.388163\n",
        "19  344.827586    7791.938453  1880.184986\n",
        "20  360.344828    9908.565314  1850.770860\n",
        "21  375.862069   10438.750690  2363.221780\n",
        "22  391.379310    9699.409217  1338.286404\n",
        "23  406.896552    7693.693952  1991.855197\n",
        "24  422.413793    6364.890931  2661.509273\n",
        "25  437.931034    6573.955062  1925.582892\n",
        "26  453.448276    8675.610268  2023.326955\n",
        "27  468.965517    6741.533742  1873.011451\n",
        "28  484.482759    3132.369619  1658.034144\n",
        "29  500.000000    7269.100898  2019.150967\n",
        "\n",
        "[30 rows x 3 columns]"
       ]
      }
     ],
     "prompt_number": 4
    },
    {
     "cell_type": "markdown",
     "metadata": {},
     "source": [
      "The dataset is stored as a :class:`pandas.DataFrame` object."
     ]
    },
    {
     "cell_type": "heading",
     "level": 2,
     "metadata": {},
     "source": [
      "Fitting the model"
     ]
    },
    {
     "cell_type": "markdown",
     "metadata": {},
     "source": [
      "The grid search method is implemented in the `gridsearch` module (see the notebook [Grid-Search](Grid-Search.ipynb) for more info)."
     ]
    },
    {
     "cell_type": "code",
     "collapsed": false,
     "input": [
      "import gridsearch"
     ],
     "language": "python",
     "metadata": {},
     "outputs": [],
     "prompt_number": 5
    },
    {
     "cell_type": "markdown",
     "metadata": {},
     "source": [
      "Create a new object for setup and results"
     ]
    },
    {
     "cell_type": "code",
     "collapsed": false,
     "input": [
      "gstest = gridsearch.CosmogenicInferenceGC(description='test case')"
     ],
     "language": "python",
     "metadata": {},
     "outputs": [],
     "prompt_number": 6
    },
    {
     "cell_type": "markdown",
     "metadata": {},
     "source": [
      "Set the data"
     ]
    },
    {
     "cell_type": "code",
     "collapsed": false,
     "input": [
      "gstest.set_profile_measured(\n",
      "    profile_data['depth'].values,\n",
      "    profile_data['C'].values,\n",
      "    profile_data['std'].values,\n",
      "    None,\n",
      ")"
     ],
     "language": "python",
     "metadata": {},
     "outputs": [],
     "prompt_number": 7
    },
    {
     "cell_type": "markdown",
     "metadata": {},
     "source": [
      "Set the model"
     ]
    },
    {
     "cell_type": "code",
     "collapsed": false,
     "input": [
      "def C_10Be_2p(depth, erosion, exposure):\n",
      "    \"\"\"\n",
      "    A model for 10Be with 2 parameters.\n",
      "    \"\"\"\n",
      "    return models.C_10Be(depth, erosion, exposure,\n",
      "                         fixed_density, fixed_inheritance)\n",
      "\n",
      "gstest.set_profile_model(C_10Be_2p)"
     ],
     "language": "python",
     "metadata": {},
     "outputs": [],
     "prompt_number": 8
    },
    {
     "cell_type": "markdown",
     "metadata": {},
     "source": [
      "Define the parameters to fit and their search ranges / steps. The order must be the same than the order of the arguments of the function used for the model!"
     ]
    },
    {
     "cell_type": "code",
     "collapsed": false,
     "input": [
      "gstest.set_parameter(\n",
      "    'erosion_rate',\n",
      "    [0., 3e-3, 200j],\n",
      "    stats.uniform(loc=0, scale=3e-3).pdf\n",
      ")\n",
      "\n",
      "gstest.set_parameter(\n",
      "    'exposure_time',\n",
      "    [0., 2e5, 200j],\n",
      "    stats.uniform(loc=0, scale=2e5).pdf\n",
      ")"
     ],
     "language": "python",
     "metadata": {},
     "outputs": [],
     "prompt_number": 9
    },
    {
     "cell_type": "markdown",
     "metadata": {},
     "source": [
      "Grid search setup summary"
     ]
    },
    {
     "cell_type": "code",
     "collapsed": false,
     "input": [
      "print gstest.setup_summary()"
     ],
     "language": "python",
     "metadata": {},
     "outputs": [
      {
       "output_type": "stream",
       "stream": "stdout",
       "text": [
        "Modelling C profile (Bayes, Grid-Search)\n",
        "\n",
        "DESCRIPTION:\n",
        "test case\n",
        "\n",
        "MEASURED PROFILE (30 samples):\n",
        "                C       depth nucleide          std\n",
        "0   155977.908401   50.000000     None  7089.943059\n",
        "1   124417.222527   65.517241     None  7556.556188\n",
        "2   103784.107834   81.034483     None  5947.080217\n",
        "3    90589.550440   96.551724     None  5600.494598\n",
        "4    84495.110605  112.068966     None  6459.338508\n",
        "5    68094.675136  127.586207     None  3935.587768\n",
        "6    56243.581776  143.103448     None  5512.315485\n",
        "7    41172.090732  158.620690     None  3472.183237\n",
        "8    40208.032148  174.137931     None  3819.413371\n",
        "9    32389.742749  189.655172     None  1828.566268\n",
        "10   28302.172991  205.172414     None  3306.757831\n",
        "11   20248.003436  220.689655     None  3683.114280\n",
        "12   21371.717110  236.206897     None  2610.280918\n",
        "13   18847.053588  251.724138     None  2341.029296\n",
        "14   22287.325468  267.241379     None  2947.374344\n",
        "15   17714.355369  282.758621     None  1453.071392\n",
        "16   15452.685560  298.275862     None  1388.449329\n",
        "17   11105.194525  313.793103     None  2612.945488\n",
        "18    6311.091736  329.310345     None  2867.388163\n",
        "19    7791.938453  344.827586     None  1880.184986\n",
        "20    9908.565314  360.344828     None  1850.770860\n",
        "21   10438.750690  375.862069     None  2363.221780\n",
        "22    9699.409217  391.379310     None  1338.286404\n",
        "23    7693.693952  406.896552     None  1991.855197\n",
        "24    6364.890931  422.413793     None  2661.509273\n",
        "25    6573.955062  437.931034     None  1925.582892\n",
        "26    8675.610268  453.448276     None  2023.326955\n",
        "27    6741.533742  468.965517     None  1873.011451\n",
        "28    3132.369619  484.482759     None  1658.034144\n",
        "29    7269.100898  500.000000     None  2019.150967\n",
        "\n",
        "[30 rows x 4 columns]\n",
        "\n",
        "PROFILE MODEL:\n",
        "C_10Be_2p\n",
        "A model for 10Be with 2 parameters.\n",
        "\n",
        "'UNKNOWN' PARAMETERS (2):\n",
        "erosion_rate:\n",
        "\tprior: <bound method rv_frozen.pdf of <scipy.stats._distn_infrastructure.rv_frozen object at 0x7fc3cd329c90>>\n",
        "\trange: [0.0, 0.003, 200j]\n",
        "exposure_time:\n",
        "\tprior: <bound method rv_frozen.pdf of <scipy.stats._distn_infrastructure.rv_frozen object at 0x7fc3cd329c50>>\n",
        "\trange: [0.0, 200000.0, 200j]\n",
        "\n",
        "degrees of freedom: 28\n",
        "\n",
        "GRID SEARCH:\n",
        "nb. of nodes per parameter: [200, 200]\n",
        "total nb. of nodes: 40000\n",
        "\n",
        "\n"
       ]
      }
     ],
     "prompt_number": 10
    },
    {
     "cell_type": "markdown",
     "metadata": {},
     "source": [
      "Perform Maximum likelihood estimation on the search grid"
     ]
    },
    {
     "cell_type": "code",
     "collapsed": false,
     "input": [
      "gstest.compute_mle()"
     ],
     "language": "python",
     "metadata": {},
     "outputs": [],
     "prompt_number": 11
    },
    {
     "cell_type": "markdown",
     "metadata": {},
     "source": [
      "Get the MLE (i.e., the parameter values at the maximum likelihood), in the same order than the definition of the parameters"
     ]
    },
    {
     "cell_type": "code",
     "collapsed": false,
     "input": [
      "gstest.mle"
     ],
     "language": "python",
     "metadata": {},
     "outputs": [
      {
       "metadata": {},
       "output_type": "pyout",
       "prompt_number": 12,
       "text": [
        "[array([ 0.0009799]), array([ 97487.43718593])]"
       ]
      }
     ],
     "prompt_number": 12
    },
    {
     "cell_type": "markdown",
     "metadata": {},
     "source": [
      "Plot the profile log-likelihood for each parameter. The blue lines represent the difference between the profile log-likelihood and the maximum log-likelihood, The intersections between the blue line and the black lines define the confidence intervals at the given confidence levels (based on the likelihood ratio test). The red lines indicate the true values."
     ]
    },
    {
     "cell_type": "code",
     "collapsed": false,
     "input": [
      "%matplotlib inline\n",
      "\n",
      "def plot_proflike1d(cobj, pname, clevels=[0.68, 0.95, 0.997],\n",
      "                    true_val=None, ax=None):\n",
      "    \n",
      "    p = cobj.parameters[pname]\n",
      "    pindex = cobj.parameters.keys().index(pname)\n",
      "    \n",
      "    x = cobj.grid[pindex].flatten()\n",
      "    proflike = cobj.proflike1d[pindex]\n",
      "\n",
      "    if ax is None:\n",
      "        ax = plt.subplot(111)\n",
      "    \n",
      "    difflike = proflike - cobj.maxlike\n",
      "    \n",
      "    ax.plot(x, difflike, label='profile loglike')\n",
      "    \n",
      "    ccrit = gridsearch.profile_likelihood_crit(\n",
      "        cobj.proflike1d[pindex],\n",
      "        cobj.maxlike,\n",
      "        clevels=clevels\n",
      "    )\n",
      "    ccrit -= cobj.maxlike\n",
      "    \n",
      "    for lev, cc in zip(clevels, ccrit):\n",
      "        l = ax.axhline(cc, color='k')\n",
      "        hpos = x.min() + (x.max() + x.min()) * 0.05\n",
      "        ax.text(hpos, cc, str(lev * 100),\n",
      "                size=9, color = l.get_color(),\n",
      "                ha=\"center\", va=\"center\",\n",
      "                bbox=dict(ec='1',fc='1'))\n",
      "    \n",
      "    if true_val is not None:\n",
      "        ax.axvline(true_val, color='r')\n",
      "    \n",
      "    plt.setp(ax, xlabel=pname,\n",
      "             ylabel='profile log-like - max log-like',\n",
      "             xlim=p['range'][0:2],\n",
      "             ylim=[ccrit[-1], 0.])\n",
      "    \n",
      "\n",
      "def plot_proflike1d_all(cobj, n_subplot_cols=2, **kwargs):\n",
      "    \n",
      "    true_vals = [true_erosion, true_exposure]\n",
      "    \n",
      "    n_subplots = len(cobj.parameters)\n",
      "    n_subplot_rows = int(math.ceil(1. * \n",
      "                                   n_subplots /\n",
      "                                   n_subplot_cols))\n",
      "    \n",
      "    fig, aax = plt.subplots(nrows=n_subplot_rows,\n",
      "                            ncols=n_subplot_cols,\n",
      "                            **kwargs)\n",
      "    axes = aax.flatten()\n",
      "    fig.text(0.5, 0.975,\n",
      "             \"Profile log-like: \" + cobj.description,\n",
      "             horizontalalignment='center',\n",
      "             verticalalignment='top')\n",
      "    \n",
      "    for i, pname in enumerate(cobj.parameters.keys()):\n",
      "        ax = axes[i]\n",
      "        plot_proflike1d(cobj, pname,\n",
      "                        true_val=true_vals[i],\n",
      "                        ax=ax)\n",
      "    \n",
      "    plt.tight_layout()\n",
      "    plt.subplots_adjust(top=0.93)\n",
      "\n",
      "\n",
      "plot_proflike1d_all(gstest, figsize=(8, 4))"
     ],
     "language": "python",
     "metadata": {},
     "outputs": [
      {
       "metadata": {},
       "output_type": "display_data",
       "png": "[encoded data removed]",
       "text": [
        "<matplotlib.figure.Figure at 0x7fc3ce54a4d0>"
       ]
      }
     ],
     "prompt_number": 13
    },
    {
     "cell_type": "markdown",
     "metadata": {},
     "source": [
      "Show the log-likelihood vs. erosion rate and exposure. Confidence regions are also shown (also based on the likelihood ratio test)."
     ]
    },
    {
     "cell_type": "code",
     "collapsed": false,
     "input": [
      "def plot_proflike2d(cobj, p1p2, ax=None,\n",
      "                    cmap='Blues', show_colorbar=True):\n",
      "    \n",
      "    pname1, pname2 = p1p2\n",
      "    idim = cobj.parameters.keys().index(pname2)\n",
      "    jdim = cobj.parameters.keys().index(pname1)\n",
      "    \n",
      "    if ax is None:\n",
      "        ax = plt.subplot(111)\n",
      "    \n",
      "    X, Y = np.meshgrid(cobj.grid[idim].flatten(),\n",
      "                       cobj.grid[jdim].flatten())\n",
      "    \n",
      "    difflike = cobj.proflike2d[idim][jdim] - cobj.maxlike\n",
      "    \n",
      "    ccrit = gridsearch.profile_likelihood_crit(\n",
      "        cobj.proflike2d[idim][jdim],\n",
      "        cobj.maxlike,\n",
      "        clevels=[0.68, 0.95]\n",
      "    )\n",
      "    ccrit -= cobj.maxlike\n",
      "    \n",
      "    contours = np.linspace(np.median(difflike),\n",
      "                           0,\n",
      "                           10)\n",
      "    \n",
      "    P2D = ax.contourf(Y, X, difflike,\n",
      "                      contours,\n",
      "                      cmap=plt.get_cmap(cmap))\n",
      "    \n",
      "    ci68 = ax.contour(Y, X, difflike,\n",
      "                      [ccrit[0]], colors='w',\n",
      "                      linestyles='solid')\n",
      "    plt.clabel(ci68, fontsize=8, inline=True,\n",
      "               fmt='68')\n",
      "    ci95 = ax.contour(Y, X, difflike,\n",
      "                      [ccrit[1]], colors=['k'],\n",
      "                      linestyles='solid')\n",
      "    plt.clabel(ci95, fontsize=8, inline=True,\n",
      "               fmt='95')\n",
      "    \n",
      "    plt.setp(ax, xlabel=pname1, ylabel=pname2)\n",
      "    \n",
      "    if show_colorbar:\n",
      "        plt.colorbar(P2D, ax=ax)\n",
      "    \n",
      "    ax.axhline(true_exposure, color='r')\n",
      "    ax.axvline(true_erosion, color='r')\n",
      "    \n",
      "\n",
      "fig = plt.figure(figsize=(6, 6))\n",
      "ax = plt.subplot(111)\n",
      "plot_proflike2d(gstest, ('erosion_rate', 'exposure_time'), ax=ax)"
     ],
     "language": "python",
     "metadata": {},
     "outputs": [
      {
       "metadata": {},
       "output_type": "display_data",
       "png": "[encoded data removed]",
       "text": [
        "<matplotlib.figure.Figure at 0x7fc3cd192790>"
       ]
      }
     ],
     "prompt_number": 14
    },
    {
     "cell_type": "markdown",
     "metadata": {},
     "source": [
      "Plot the measured concentrations and the predicted profile corresponding to the best fitted data model"
     ]
    },
    {
     "cell_type": "code",
     "collapsed": false,
     "input": [
      "sns.set_context('notebook')\n",
      "\n",
      "depths = np.linspace(profile_data['depth'].min(),\n",
      "                     profile_data['depth'].max(),\n",
      "                     100)\n",
      "Cm_fitted = models.C_10Be(depths,\n",
      "                          gstest.mle[0], gstest.mle[1],\n",
      "                          fixed_density,\n",
      "                          fixed_inheritance)\n",
      "\n",
      "Cm_true = models.C_10Be(depths, true_erosion, true_exposure,\n",
      "                        fixed_density, fixed_inheritance)\n",
      "\n",
      "plt.figure()\n",
      "plt.plot(Cm_fitted, -depths, label='best-fitted model')\n",
      "plt.plot(Cm_true, -depths, color='r', label='true model')\n",
      "plt.errorbar(profile_data['C'],\n",
      "             -profile_data['depth'],\n",
      "             xerr=profile_data['std'],\n",
      "             fmt='o', markersize=4,\n",
      "             label='data')\n",
      "plt.setp(plt.gca(),\n",
      "         xlabel='10Be concentration [atoms g-1]',\n",
      "         ylabel='-1 * depth [cm]',\n",
      "         xlim=[0, None], ylim=[None, 0])\n",
      "\n",
      "plt.legend(loc='lower right')"
     ],
     "language": "python",
     "metadata": {},
     "outputs": [
      {
       "metadata": {},
       "output_type": "pyout",
       "prompt_number": 15,
       "text": [
        "<matplotlib.legend.Legend at 0x7fc3cd01e6d0>"
       ]
      },
      {
       "metadata": {},
       "output_type": "display_data",
       "png": "[encoded data removed]",
       "text": [
        "<matplotlib.figure.Figure at 0x7fc3cd1d8d50>"
       ]
      }
     ],
     "prompt_number": 15
    },
    {
     "cell_type": "heading",
     "level": 2,
     "metadata": {},
     "source": [
      "Observations"
     ]
    },
    {
     "cell_type": "markdown",
     "metadata": {},
     "source": [
      "*2 free parameters*\n",
      "\n",
      "As the sample size increases, keeping fixed the error magnitude, we can see that the shapes of the profile log-likelihoods tend to be closer to a parabola (asymptotic normality) and the confidence intervals narrow up.\n",
      "For very small sample sizes (< 10), the confidence intervals are larger and the assumption of the normality is not reasonable.\n",
      "\n",
      "For small sample sizes, we can also see that the maximum likelihood estimator is not always close to the true parameter values (sometimes the true values lie outside the 65% - or even 95% - confidence intervals). The results change from one generated dataset to another, setting the same perturbation parameters. It shows that the maximum likelihood estimator is biased for finite sample sizes. This bias is visible even for sample sizes $\\sim$ 100 to 500. With very large sample sizes, we can see that it converges towards the true values.\n",
      "\n",
      "The shape of the likelihood and the confidence regions show the positive correlation (non-linear relationship) between erosion rates and exposure time."
     ]
    },
    {
     "cell_type": "code",
     "collapsed": false,
     "input": [],
     "language": "python",
     "metadata": {},
     "outputs": []
    }
   ],
   "metadata": {}
  }
 ]
}