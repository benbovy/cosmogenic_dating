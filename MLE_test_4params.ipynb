{
 "metadata": {
  "name": "",
  "signature": "sha256:a9ca82994986d152eea2c41d72c4817accf88573fe299e98a9418963f5bc2e4e"
 },
 "nbformat": 3,
 "nbformat_minor": 0,
 "worksheets": [
  {
   "cells": [
    {
     "cell_type": "heading",
     "level": 1,
     "metadata": {},
     "source": [
      "Maximum Likelihood Estimation - Test case - 4 free parameters"
     ]
    },
    {
     "cell_type": "markdown",
     "metadata": {},
     "source": [
      "An example of applying the MLE approach with 4 free parameters, using the [lmfit](http://lmfit.github.io/lmfit-py/) package. This package implements chi-square minimization for non-linear models, which is equivalent to MLE for this problem.\n",
      "\n",
      "For more info about the method used, see the notebook [Inference_Notes](Inference_Notes.ipynb).\n",
      "\n",
      "This example (a test case) is based on a generic dataset of 10Be concentration vs. depth, which is drawn from a distribution with given \"true\" parameters.\n",
      "\n",
      "This notebook has the following external dependencies:"
     ]
    },
    {
     "cell_type": "code",
     "collapsed": false,
     "input": [
      "import math\n",
      "\n",
      "import numpy as np\n",
      "import pandas as pd\n",
      "import matplotlib.pyplot as plt\n",
      "import lmfit\n",
      "import seaborn as sns\n",
      "\n",
      "%matplotlib inline"
     ],
     "language": "python",
     "metadata": {},
     "outputs": [],
     "prompt_number": 1
    },
    {
     "cell_type": "heading",
     "level": 2,
     "metadata": {},
     "source": [
      "The mathematical (Predictive) Model"
     ]
    },
    {
     "cell_type": "markdown",
     "metadata": {},
     "source": [
      "The mathematical model is available in the `models` Python module (see the notebook [Models](Models.ipynb))"
     ]
    },
    {
     "cell_type": "code",
     "collapsed": false,
     "input": [
      "import models"
     ],
     "language": "python",
     "metadata": {},
     "outputs": [],
     "prompt_number": 2
    },
    {
     "cell_type": "heading",
     "level": 2,
     "metadata": {},
     "source": [
      "The Data"
     ]
    },
    {
     "cell_type": "markdown",
     "metadata": {},
     "source": [
      "The dataset is generated using the following true parameter values"
     ]
    },
    {
     "cell_type": "code",
     "collapsed": false,
     "input": [
      "# the true parameters \n",
      "true_erosion = 1e-3\n",
      "true_exposure = 1e5\n",
      "true_density = 2.0\n",
      "true_inheritance = 0.\n",
      "\n",
      "# depths and sample size\n",
      "depth_minmax = [50, 500]\n",
      "N = 30\n",
      "\n",
      "# perturbations\n",
      "err_magnitude = 20.\n",
      "err_variability = 5."
     ],
     "language": "python",
     "metadata": {},
     "outputs": [],
     "prompt_number": 3
    },
    {
     "cell_type": "markdown",
     "metadata": {},
     "source": [
      "The `gendata` Python module is used to generate the dataset (see the notebook [Datasets](Datasets.ipynb))."
     ]
    },
    {
     "cell_type": "code",
     "collapsed": false,
     "input": [
      "import gendata\n",
      "\n",
      "profile_data = gendata.generate_dataset(\n",
      "    models.C_10Be,\n",
      "    [true_erosion, true_exposure, true_density, true_inheritance],\n",
      "    zlimits=depth_minmax,\n",
      "    n=N,\n",
      "    err=[err_magnitude, err_variability]\n",
      ")\n",
      "\n",
      "profile_data"
     ],
     "language": "python",
     "metadata": {},
     "outputs": [
      {
       "html": [
        "<div style=\"max-height:1000px;max-width:1500px;overflow:auto;\">\n",
        "<table border=\"1\" class=\"dataframe\">\n",
        "  <thead>\n",
        "    <tr style=\"text-align: right;\">\n",
        "      <th></th>\n",
        "      <th>depth</th>\n",
        "      <th>C</th>\n",
        "      <th>std</th>\n",
        "    </tr>\n",
        "  </thead>\n",
        "  <tbody>\n",
        "    <tr>\n",
        "      <th>0 </th>\n",
        "      <td>  50.000000</td>\n",
        "      <td> 155469.618000</td>\n",
        "      <td> 6752.276784</td>\n",
        "    </tr>\n",
        "    <tr>\n",
        "      <th>1 </th>\n",
        "      <td>  65.517241</td>\n",
        "      <td> 113704.632492</td>\n",
        "      <td> 8602.120938</td>\n",
        "    </tr>\n",
        "    <tr>\n",
        "      <th>2 </th>\n",
        "      <td>  81.034483</td>\n",
        "      <td> 111258.289174</td>\n",
        "      <td> 6001.163571</td>\n",
        "    </tr>\n",
        "    <tr>\n",
        "      <th>3 </th>\n",
        "      <td>  96.551724</td>\n",
        "      <td>  83426.194061</td>\n",
        "      <td> 6080.164885</td>\n",
        "    </tr>\n",
        "    <tr>\n",
        "      <th>4 </th>\n",
        "      <td> 112.068966</td>\n",
        "      <td>  66420.617873</td>\n",
        "      <td> 4789.861576</td>\n",
        "    </tr>\n",
        "    <tr>\n",
        "      <th>5 </th>\n",
        "      <td> 127.586207</td>\n",
        "      <td>  66817.344573</td>\n",
        "      <td> 4964.878276</td>\n",
        "    </tr>\n",
        "    <tr>\n",
        "      <th>6 </th>\n",
        "      <td> 143.103448</td>\n",
        "      <td>  57030.047273</td>\n",
        "      <td> 3971.537260</td>\n",
        "    </tr>\n",
        "    <tr>\n",
        "      <th>7 </th>\n",
        "      <td> 158.620690</td>\n",
        "      <td>  50635.825827</td>\n",
        "      <td> 4704.462239</td>\n",
        "    </tr>\n",
        "    <tr>\n",
        "      <th>8 </th>\n",
        "      <td> 174.137931</td>\n",
        "      <td>  36542.835488</td>\n",
        "      <td> 3194.466227</td>\n",
        "    </tr>\n",
        "    <tr>\n",
        "      <th>9 </th>\n",
        "      <td> 189.655172</td>\n",
        "      <td>  31405.210837</td>\n",
        "      <td> 3235.768950</td>\n",
        "    </tr>\n",
        "    <tr>\n",
        "      <th>10</th>\n",
        "      <td> 205.172414</td>\n",
        "      <td>  26026.062664</td>\n",
        "      <td> 3540.110577</td>\n",
        "    </tr>\n",
        "    <tr>\n",
        "      <th>11</th>\n",
        "      <td> 220.689655</td>\n",
        "      <td>  20047.882312</td>\n",
        "      <td> 6035.322431</td>\n",
        "    </tr>\n",
        "    <tr>\n",
        "      <th>12</th>\n",
        "      <td> 236.206897</td>\n",
        "      <td>  18769.662840</td>\n",
        "      <td> 3115.630127</td>\n",
        "    </tr>\n",
        "    <tr>\n",
        "      <th>13</th>\n",
        "      <td> 251.724138</td>\n",
        "      <td>  16041.142504</td>\n",
        "      <td> 2508.001181</td>\n",
        "    </tr>\n",
        "    <tr>\n",
        "      <th>14</th>\n",
        "      <td> 267.241379</td>\n",
        "      <td>  21590.400488</td>\n",
        "      <td> 3365.163361</td>\n",
        "    </tr>\n",
        "    <tr>\n",
        "      <th>15</th>\n",
        "      <td> 282.758621</td>\n",
        "      <td>  18528.310813</td>\n",
        "      <td> 2854.109052</td>\n",
        "    </tr>\n",
        "    <tr>\n",
        "      <th>16</th>\n",
        "      <td> 298.275862</td>\n",
        "      <td>  13845.989247</td>\n",
        "      <td> 2608.262756</td>\n",
        "    </tr>\n",
        "    <tr>\n",
        "      <th>17</th>\n",
        "      <td> 313.793103</td>\n",
        "      <td>  10851.278371</td>\n",
        "      <td> 2427.391173</td>\n",
        "    </tr>\n",
        "    <tr>\n",
        "      <th>18</th>\n",
        "      <td> 329.310345</td>\n",
        "      <td>  10476.673153</td>\n",
        "      <td> 2222.335469</td>\n",
        "    </tr>\n",
        "    <tr>\n",
        "      <th>19</th>\n",
        "      <td> 344.827586</td>\n",
        "      <td>  14263.489929</td>\n",
        "      <td> 3077.981922</td>\n",
        "    </tr>\n",
        "    <tr>\n",
        "      <th>20</th>\n",
        "      <td> 360.344828</td>\n",
        "      <td>   9995.469751</td>\n",
        "      <td> 1160.166028</td>\n",
        "    </tr>\n",
        "    <tr>\n",
        "      <th>21</th>\n",
        "      <td> 375.862069</td>\n",
        "      <td>   8409.197794</td>\n",
        "      <td> 1518.436935</td>\n",
        "    </tr>\n",
        "    <tr>\n",
        "      <th>22</th>\n",
        "      <td> 391.379310</td>\n",
        "      <td>   9309.767658</td>\n",
        "      <td> 1644.762778</td>\n",
        "    </tr>\n",
        "    <tr>\n",
        "      <th>23</th>\n",
        "      <td> 406.896552</td>\n",
        "      <td>   6822.902575</td>\n",
        "      <td>  995.175705</td>\n",
        "    </tr>\n",
        "    <tr>\n",
        "      <th>24</th>\n",
        "      <td> 422.413793</td>\n",
        "      <td>   9061.656878</td>\n",
        "      <td> 1729.211031</td>\n",
        "    </tr>\n",
        "    <tr>\n",
        "      <th>25</th>\n",
        "      <td> 437.931034</td>\n",
        "      <td>   4918.669980</td>\n",
        "      <td> 2196.955213</td>\n",
        "    </tr>\n",
        "    <tr>\n",
        "      <th>26</th>\n",
        "      <td> 453.448276</td>\n",
        "      <td>   9286.904748</td>\n",
        "      <td> 1797.553571</td>\n",
        "    </tr>\n",
        "    <tr>\n",
        "      <th>27</th>\n",
        "      <td> 468.965517</td>\n",
        "      <td>   5425.861625</td>\n",
        "      <td> 2331.584368</td>\n",
        "    </tr>\n",
        "    <tr>\n",
        "      <th>28</th>\n",
        "      <td> 484.482759</td>\n",
        "      <td>   7366.253562</td>\n",
        "      <td> 1465.869598</td>\n",
        "    </tr>\n",
        "    <tr>\n",
        "      <th>29</th>\n",
        "      <td> 500.000000</td>\n",
        "      <td>   6406.698210</td>\n",
        "      <td> 2417.516899</td>\n",
        "    </tr>\n",
        "  </tbody>\n",
        "</table>\n",
        "<p>30 rows \u00d7 3 columns</p>\n",
        "</div>"
       ],
       "metadata": {},
       "output_type": "pyout",
       "prompt_number": 4,
       "text": [
        "         depth              C          std\n",
        "0    50.000000  155469.618000  6752.276784\n",
        "1    65.517241  113704.632492  8602.120938\n",
        "2    81.034483  111258.289174  6001.163571\n",
        "3    96.551724   83426.194061  6080.164885\n",
        "4   112.068966   66420.617873  4789.861576\n",
        "5   127.586207   66817.344573  4964.878276\n",
        "6   143.103448   57030.047273  3971.537260\n",
        "7   158.620690   50635.825827  4704.462239\n",
        "8   174.137931   36542.835488  3194.466227\n",
        "9   189.655172   31405.210837  3235.768950\n",
        "10  205.172414   26026.062664  3540.110577\n",
        "11  220.689655   20047.882312  6035.322431\n",
        "12  236.206897   18769.662840  3115.630127\n",
        "13  251.724138   16041.142504  2508.001181\n",
        "14  267.241379   21590.400488  3365.163361\n",
        "15  282.758621   18528.310813  2854.109052\n",
        "16  298.275862   13845.989247  2608.262756\n",
        "17  313.793103   10851.278371  2427.391173\n",
        "18  329.310345   10476.673153  2222.335469\n",
        "19  344.827586   14263.489929  3077.981922\n",
        "20  360.344828    9995.469751  1160.166028\n",
        "21  375.862069    8409.197794  1518.436935\n",
        "22  391.379310    9309.767658  1644.762778\n",
        "23  406.896552    6822.902575   995.175705\n",
        "24  422.413793    9061.656878  1729.211031\n",
        "25  437.931034    4918.669980  2196.955213\n",
        "26  453.448276    9286.904748  1797.553571\n",
        "27  468.965517    5425.861625  2331.584368\n",
        "28  484.482759    7366.253562  1465.869598\n",
        "29  500.000000    6406.698210  2417.516899\n",
        "\n",
        "[30 rows x 3 columns]"
       ]
      }
     ],
     "prompt_number": 4
    },
    {
     "cell_type": "markdown",
     "metadata": {},
     "source": [
      "The dataset is stored as a :class:`pandas.DataFrame` object."
     ]
    },
    {
     "cell_type": "heading",
     "level": 2,
     "metadata": {},
     "source": [
      "Fitting the model"
     ]
    },
    {
     "cell_type": "markdown",
     "metadata": {},
     "source": [
      "The default optimization method used by lmfit is the \u201cleastsq\u201d function of the scipy's [optimize](http://docs.scipy.org/doc/scipy/reference/optimize.html) package. This function is a wrapper around MINPACK\u2019s lmdif and lmder algorithms. Using this method, we must provide the array of the normalized residuals rather than the chi-square. "
     ]
    },
    {
     "cell_type": "code",
     "collapsed": false,
     "input": [
      "def residuals(params):\n",
      "    \"\"\"\n",
      "    Normalized residuals (to be used\n",
      "    with the `lmfit` package).\n",
      "    \n",
      "    \"\"\"\n",
      "    erosion = params['erosion_rate'].value\n",
      "    exposure = params['exposure_time'].value\n",
      "    density = params['soil_density'].value\n",
      "    inheritance = params['inheritance'].value\n",
      "    \n",
      "    C_mod = models.C_10Be(profile_data['depth'],\n",
      "                          erosion, exposure,\n",
      "                          density, inheritance)\n",
      "    \n",
      "    return (C_mod - profile_data['C']) / profile_data['std']\n",
      "    "
     ],
     "language": "python",
     "metadata": {},
     "outputs": [],
     "prompt_number": 5
    },
    {
     "cell_type": "markdown",
     "metadata": {},
     "source": [
      "Define the parameters to fit, with an initial value (needed for optimization) and optionally bounds."
     ]
    },
    {
     "cell_type": "code",
     "collapsed": false,
     "input": [
      "params = lmfit.Parameters()\n",
      "params.add('erosion_rate',   value=3e-3, min=0.)\n",
      "params.add('exposure_time', value=1e4, min=0.)\n",
      "params.add('soil_density', value=2.3)\n",
      "params.add('inheritance', value=1e4, min=0.)"
     ],
     "language": "python",
     "metadata": {},
     "outputs": [],
     "prompt_number": 6
    },
    {
     "cell_type": "markdown",
     "metadata": {},
     "source": [
      "Fit the model"
     ]
    },
    {
     "cell_type": "code",
     "collapsed": false,
     "input": [
      "res = lmfit.minimize(residuals, params, ftol=1e-4, xtol=1e-4)"
     ],
     "language": "python",
     "metadata": {},
     "outputs": [],
     "prompt_number": 7
    },
    {
     "cell_type": "markdown",
     "metadata": {},
     "source": [
      "Report the results (the MLE values for each parameter and the estimation of standard errors / correlations based on the Gaussian approximation of the MLE distribution)"
     ]
    },
    {
     "cell_type": "code",
     "collapsed": false,
     "input": [
      "lmfit.report_fit(params)"
     ],
     "language": "python",
     "metadata": {},
     "outputs": [
      {
       "output_type": "stream",
       "stream": "stdout",
       "text": [
        "[[Variables]]\n",
        "     erosion_rate:      5.509446e-09 +/- 0 (0.00%) initial =  0.003\n",
        "     exposure_time:     55451.32 +/- 0 (0.00%) initial =  10000\n",
        "     inheritance:       2565.013 +/- 0 (0.00%) initial =  10000\n",
        "     soil_density:      1.996409 +/- 0 (0.00%) initial =  2.3\n",
        "[[Correlations]] (unreported correlations are <  0.100)\n"
       ]
      }
     ],
     "prompt_number": 8
    },
    {
     "cell_type": "markdown",
     "metadata": {},
     "source": [
      "Print some info and output messages from the optimization process"
     ]
    },
    {
     "cell_type": "code",
     "collapsed": false,
     "input": [
      "print res.success\n",
      "print res.nfev      # number of function evaluations during optimization\n",
      "print res.lmdif_message\n",
      "print res.message"
     ],
     "language": "python",
     "metadata": {},
     "outputs": [
      {
       "output_type": "stream",
       "stream": "stdout",
       "text": [
        "True\n",
        "75\n",
        "Both actual and predicted relative reductions in the sum of squares\n",
        "  are at most 0.000100\n",
        "%s. Could not estimate error-bars\n"
       ]
      }
     ],
     "prompt_number": 9
    },
    {
     "cell_type": "markdown",
     "metadata": {},
     "source": [
      "Chi-square, degrees of freedom and reduced chi-square values for MLE"
     ]
    },
    {
     "cell_type": "code",
     "collapsed": false,
     "input": [
      "print res.chisqr\n",
      "print res.nfree\n",
      "print res.redchi"
     ],
     "language": "python",
     "metadata": {},
     "outputs": [
      {
       "output_type": "stream",
       "stream": "stdout",
       "text": [
        "25.1473660908\n",
        "26\n",
        "0.967206388108\n"
       ]
      }
     ],
     "prompt_number": 10
    },
    {
     "cell_type": "markdown",
     "metadata": {},
     "source": [
      "A more accurate, direct calculation of the confidence intervals (using a method similar to the profile likelihood). Note that `-inf` values generally means that the CI limit has not been reached within the parameter space - if it is bounded by physically acceptable values - or within the range defined by MLE +/- 3 * standard error estimated by normal approximation (a warning messages appears because no root has been found during the inversion of the F-test)."
     ]
    },
    {
     "cell_type": "code",
     "collapsed": false,
     "input": [
      "ci, trace = lmfit.conf_interval(res, trace=True)\n",
      "\n",
      "lmfit.report_ci(ci)"
     ],
     "language": "python",
     "metadata": {},
     "outputs": [
      {
       "output_type": "stream",
       "stream": "stdout",
       "text": [
        "                 99.70%    95.00%    67.40%     0.00%    67.40%    95.00%    99.70%\n",
        "exposure_time46441.5115549607.2704752522.7620555451.2287358549.1478762016.3568866303.14015\n",
        " soil_density   1.72095   1.82071   1.90959   1.99641   2.08592   2.18351   2.30104\n",
        " erosion_rate      -inf      -inf      -inf   0.00000   0.00112   0.00127   0.00145\n",
        "  inheritance 480.067811284.868371951.952872565.021173161.955183776.312424470.77124\n"
       ]
      },
      {
       "output_type": "stream",
       "stream": "stderr",
       "text": [
        "/home/python/PythonEnvs/pygchem_py27_0/lib/python2.7/site-packages/lmfit/confidence.py:282: UserWarning: Warning, rel_change=0.0 < 0.01  at iteration 2 and prob(erosion_rate=-0.00199999449055) = 0.000127013518873 < max(sigmas).\n",
        "  warn(errmsg)\n"
       ]
      }
     ],
     "prompt_number": 11
    },
    {
     "cell_type": "markdown",
     "metadata": {},
     "source": [
      "Calculate and Plot the $1-\\alpha$ confidence regions (same method than the one used here above). Note that the interpolated contours of the confidence regions are approximative, depending on the (coarse) resolution of the grid used to calculate the p-values. The red lines indicate the true values."
     ]
    },
    {
     "cell_type": "code",
     "collapsed": false,
     "input": [
      "x, y, cr = lmfit.conf_interval2d(res,'erosion_rate', 'exposure_time', 20, 30,\n",
      "                                 limits=((0., 2e-3), (0., 1.5e5)))\n",
      "\n",
      "sns.set_style('darkgrid')\n",
      "sns.set_context('notebook')\n",
      "\n",
      "plt.contourf(x, y, cr, [0., 0.674, 0.95, 0.997, 1.],\n",
      "             cmap=plt.get_cmap('Blues'))\n",
      "plt.colorbar()\n",
      "plt.setp(plt.gca(),\n",
      "         xlabel='erosion rate [cm yr-1]',\n",
      "         ylabel='exposure time [yr]')\n",
      "plt.axhline(true_exposure, color='r')\n",
      "plt.axvline(true_erosion, color='r')"
     ],
     "language": "python",
     "metadata": {},
     "outputs": [
      {
       "metadata": {},
       "output_type": "pyout",
       "prompt_number": 14,
       "text": [
        "<matplotlib.lines.Line2D at 0x7f8b4e139910>"
       ]
      },
      {
       "metadata": {},
       "output_type": "display_data",
       "png": "[encoded data removed]",
       "text": [
        "<matplotlib.figure.Figure at 0x7f8b4e725590>"
       ]
      }
     ],
     "prompt_number": 14
    },
    {
     "cell_type": "markdown",
     "metadata": {},
     "source": [
      "Plot the measured concentrations and the predicted profile corresponding to the best fitted data model"
     ]
    },
    {
     "cell_type": "code",
     "collapsed": false,
     "input": [
      "depths = np.linspace(profile_data['depth'].min(),\n",
      "                     profile_data['depth'].max(),\n",
      "                     100)\n",
      "Cm_fitted = models.C_10Be(depths,\n",
      "                          res.values['erosion_rate'],\n",
      "                          res.values['exposure_time'],\n",
      "                          res.values['soil_density'],\n",
      "                          res.values['inheritance'])\n",
      "\n",
      "Cm_true = models.C_10Be(depths, true_erosion, true_exposure,\n",
      "                        true_density, true_inheritance)\n",
      "\n",
      "plt.figure()\n",
      "plt.plot(Cm_fitted, -depths, label='best-fitted model')\n",
      "plt.plot(Cm_true, -depths, color='r', label='true model')\n",
      "plt.errorbar(profile_data['C'],\n",
      "             -profile_data['depth'],\n",
      "             xerr=profile_data['std'],\n",
      "             fmt='o', markersize=4,\n",
      "             label='data')\n",
      "plt.setp(plt.gca(),\n",
      "         xlabel='10Be concentration [atoms g-1]',\n",
      "         ylabel='-1 * depth [cm]',\n",
      "         xlim=[0, None], ylim=[None, 0])\n",
      "\n",
      "plt.legend(loc='lower right')"
     ],
     "language": "python",
     "metadata": {},
     "outputs": [
      {
       "metadata": {},
       "output_type": "pyout",
       "prompt_number": 13,
       "text": [
        "<matplotlib.legend.Legend at 0x7f8b4e57d550>"
       ]
      },
      {
       "metadata": {},
       "output_type": "display_data",
       "png": "[encoded data removed]",
       "text": [
        "<matplotlib.figure.Figure at 0x7f8b4e73b5d0>"
       ]
      }
     ],
     "prompt_number": 13
    },
    {
     "cell_type": "heading",
     "level": 2,
     "metadata": {},
     "source": [
      "Observations"
     ]
    },
    {
     "cell_type": "markdown",
     "metadata": {},
     "source": [
      "*4 free parameters*\n",
      "\n",
      "The results obtained here seem to be consistent with MLE with 4 parameters usign the Grid-Search method (see the notebook [GS_test_4params](GS_test_4params.ipynb))."
     ]
    },
    {
     "cell_type": "code",
     "collapsed": false,
     "input": [],
     "language": "python",
     "metadata": {},
     "outputs": [],
     "prompt_number": 13
    }
   ],
   "metadata": {}
  }
 ]
}