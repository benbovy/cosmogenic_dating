{
 "metadata": {
  "name": "",
  "signature": "sha256:96c96e9be0ea32fb34ce2bdf55fa4bbdb4841cc35212efc42263fe62cf83d771"
 },
 "nbformat": 3,
 "nbformat_minor": 0,
 "worksheets": [
  {
   "cells": [
    {
     "cell_type": "heading",
     "level": 1,
     "metadata": {},
     "source": [
      "Maximum Likelihood Estimation - Test case - 4 free parameters"
     ]
    },
    {
     "cell_type": "markdown",
     "metadata": {},
     "source": [
      "An example of applying the MLE approach with 4 free parameters, using the [lmfit](http://lmfit.github.io/lmfit-py/) package. This package implements chi-square minimization for non-linear models, which is equivalent to MLE for this problem.\n",
      "\n",
      "This example (a test case) is based on a generic dataset of 10Be concentration vs. depth, which is drawn from a distribution with given \"true\" parameters.\n",
      "\n",
      "This notebook has the following external dependencies:"
     ]
    },
    {
     "cell_type": "code",
     "collapsed": false,
     "input": [
      "import math\n",
      "\n",
      "import numpy as np\n",
      "import pandas as pd\n",
      "import matplotlib.pyplot as plt\n",
      "import lmfit\n",
      "import seaborn as sns\n",
      "\n",
      "%matplotlib inline"
     ],
     "language": "python",
     "metadata": {},
     "outputs": [],
     "prompt_number": 1
    },
    {
     "cell_type": "heading",
     "level": 2,
     "metadata": {},
     "source": [
      "The mathematical (Predictive) Model"
     ]
    },
    {
     "cell_type": "markdown",
     "metadata": {},
     "source": [
      "The mathematical model is available in the `models` Python module (see the notebook [Models](Models.ipynb))"
     ]
    },
    {
     "cell_type": "code",
     "collapsed": false,
     "input": [
      "import models"
     ],
     "language": "python",
     "metadata": {},
     "outputs": [],
     "prompt_number": 2
    },
    {
     "cell_type": "heading",
     "level": 2,
     "metadata": {},
     "source": [
      "The Data"
     ]
    },
    {
     "cell_type": "markdown",
     "metadata": {},
     "source": [
      "The dataset is generated using the following true parameter values"
     ]
    },
    {
     "cell_type": "code",
     "collapsed": false,
     "input": [
      "# the true parameters \n",
      "true_erosion = 1e-3\n",
      "true_exposure = 1e5\n",
      "true_density = 2.0\n",
      "true_inheritance = 0.\n",
      "\n",
      "# depths and sample size\n",
      "depth_minmax = [50, 500]\n",
      "N = 30\n",
      "\n",
      "# perturbations\n",
      "err_magnitude = 20.\n",
      "err_variability = 5."
     ],
     "language": "python",
     "metadata": {},
     "outputs": [],
     "prompt_number": 3
    },
    {
     "cell_type": "markdown",
     "metadata": {},
     "source": [
      "The `gendata` Python module is used to generate the dataset (see the notebook [Datasets](Datasets.ipynb))."
     ]
    },
    {
     "cell_type": "code",
     "collapsed": false,
     "input": [
      "import gendata\n",
      "\n",
      "profile_data = gendata.generate_dataset(\n",
      "    models.C_10Be,\n",
      "    [true_erosion, true_exposure, true_density, true_inheritance],\n",
      "    zlimits=depth_minmax,\n",
      "    n=N,\n",
      "    err=[err_magnitude, err_variability]\n",
      ")\n",
      "\n",
      "profile_data"
     ],
     "language": "python",
     "metadata": {},
     "outputs": [
      {
       "html": [
        "<div style=\"max-height:1000px;max-width:1500px;overflow:auto;\">\n",
        "<table border=\"1\" class=\"dataframe\">\n",
        "  <thead>\n",
        "    <tr style=\"text-align: right;\">\n",
        "      <th></th>\n",
        "      <th>depth</th>\n",
        "      <th>C</th>\n",
        "      <th>std</th>\n",
        "    </tr>\n",
        "  </thead>\n",
        "  <tbody>\n",
        "    <tr>\n",
        "      <th>0 </th>\n",
        "      <td>  50.000000</td>\n",
        "      <td> 151033.573996</td>\n",
        "      <td>  8741.504890</td>\n",
        "    </tr>\n",
        "    <tr>\n",
        "      <th>1 </th>\n",
        "      <td>  65.517241</td>\n",
        "      <td> 128329.488039</td>\n",
        "      <td> 10969.546249</td>\n",
        "    </tr>\n",
        "    <tr>\n",
        "      <th>2 </th>\n",
        "      <td>  81.034483</td>\n",
        "      <td> 104888.883965</td>\n",
        "      <td>  4168.050039</td>\n",
        "    </tr>\n",
        "    <tr>\n",
        "      <th>3 </th>\n",
        "      <td>  96.551724</td>\n",
        "      <td>  83045.710832</td>\n",
        "      <td>  5726.645618</td>\n",
        "    </tr>\n",
        "    <tr>\n",
        "      <th>4 </th>\n",
        "      <td> 112.068966</td>\n",
        "      <td>  89222.601078</td>\n",
        "      <td>  7192.685403</td>\n",
        "    </tr>\n",
        "    <tr>\n",
        "      <th>5 </th>\n",
        "      <td> 127.586207</td>\n",
        "      <td>  63639.620401</td>\n",
        "      <td>  3511.756627</td>\n",
        "    </tr>\n",
        "    <tr>\n",
        "      <th>6 </th>\n",
        "      <td> 143.103448</td>\n",
        "      <td>  52312.281977</td>\n",
        "      <td>  5575.481446</td>\n",
        "    </tr>\n",
        "    <tr>\n",
        "      <th>7 </th>\n",
        "      <td> 158.620690</td>\n",
        "      <td>  45354.577469</td>\n",
        "      <td>  2983.185706</td>\n",
        "    </tr>\n",
        "    <tr>\n",
        "      <th>8 </th>\n",
        "      <td> 174.137931</td>\n",
        "      <td>  35324.142496</td>\n",
        "      <td>  2481.966298</td>\n",
        "    </tr>\n",
        "    <tr>\n",
        "      <th>9 </th>\n",
        "      <td> 189.655172</td>\n",
        "      <td>  31513.368304</td>\n",
        "      <td>  4876.375570</td>\n",
        "    </tr>\n",
        "    <tr>\n",
        "      <th>10</th>\n",
        "      <td> 205.172414</td>\n",
        "      <td>  32461.516013</td>\n",
        "      <td>  3557.157911</td>\n",
        "    </tr>\n",
        "    <tr>\n",
        "      <th>11</th>\n",
        "      <td> 220.689655</td>\n",
        "      <td>  25093.182353</td>\n",
        "      <td>  3161.559031</td>\n",
        "    </tr>\n",
        "    <tr>\n",
        "      <th>12</th>\n",
        "      <td> 236.206897</td>\n",
        "      <td>  19121.098527</td>\n",
        "      <td>  2288.128159</td>\n",
        "    </tr>\n",
        "    <tr>\n",
        "      <th>13</th>\n",
        "      <td> 251.724138</td>\n",
        "      <td>  19327.514837</td>\n",
        "      <td>  2725.728069</td>\n",
        "    </tr>\n",
        "    <tr>\n",
        "      <th>14</th>\n",
        "      <td> 267.241379</td>\n",
        "      <td>  16324.886470</td>\n",
        "      <td>  2068.583031</td>\n",
        "    </tr>\n",
        "    <tr>\n",
        "      <th>15</th>\n",
        "      <td> 282.758621</td>\n",
        "      <td>  17220.618004</td>\n",
        "      <td>  2171.177142</td>\n",
        "    </tr>\n",
        "    <tr>\n",
        "      <th>16</th>\n",
        "      <td> 298.275862</td>\n",
        "      <td>   8662.439133</td>\n",
        "      <td>  2520.578655</td>\n",
        "    </tr>\n",
        "    <tr>\n",
        "      <th>17</th>\n",
        "      <td> 313.793103</td>\n",
        "      <td>  15784.806925</td>\n",
        "      <td>  1651.149212</td>\n",
        "    </tr>\n",
        "    <tr>\n",
        "      <th>18</th>\n",
        "      <td> 329.310345</td>\n",
        "      <td>  11090.466267</td>\n",
        "      <td>  2702.565197</td>\n",
        "    </tr>\n",
        "    <tr>\n",
        "      <th>19</th>\n",
        "      <td> 344.827586</td>\n",
        "      <td>   9771.041397</td>\n",
        "      <td>  2421.749773</td>\n",
        "    </tr>\n",
        "    <tr>\n",
        "      <th>20</th>\n",
        "      <td> 360.344828</td>\n",
        "      <td>  11461.781545</td>\n",
        "      <td>  1645.674054</td>\n",
        "    </tr>\n",
        "    <tr>\n",
        "      <th>21</th>\n",
        "      <td> 375.862069</td>\n",
        "      <td>  10961.846403</td>\n",
        "      <td>  1372.353974</td>\n",
        "    </tr>\n",
        "    <tr>\n",
        "      <th>22</th>\n",
        "      <td> 391.379310</td>\n",
        "      <td>  10872.717510</td>\n",
        "      <td>  2006.221964</td>\n",
        "    </tr>\n",
        "    <tr>\n",
        "      <th>23</th>\n",
        "      <td> 406.896552</td>\n",
        "      <td>   8752.221676</td>\n",
        "      <td>  1255.629768</td>\n",
        "    </tr>\n",
        "    <tr>\n",
        "      <th>24</th>\n",
        "      <td> 422.413793</td>\n",
        "      <td>   7684.470615</td>\n",
        "      <td>  2235.302043</td>\n",
        "    </tr>\n",
        "    <tr>\n",
        "      <th>25</th>\n",
        "      <td> 437.931034</td>\n",
        "      <td>   8241.131052</td>\n",
        "      <td>  1751.109117</td>\n",
        "    </tr>\n",
        "    <tr>\n",
        "      <th>26</th>\n",
        "      <td> 453.448276</td>\n",
        "      <td>   3757.570838</td>\n",
        "      <td>  1609.974895</td>\n",
        "    </tr>\n",
        "    <tr>\n",
        "      <th>27</th>\n",
        "      <td> 468.965517</td>\n",
        "      <td>   6013.029077</td>\n",
        "      <td>  1256.855296</td>\n",
        "    </tr>\n",
        "    <tr>\n",
        "      <th>28</th>\n",
        "      <td> 484.482759</td>\n",
        "      <td>   6896.449878</td>\n",
        "      <td>   901.765962</td>\n",
        "    </tr>\n",
        "    <tr>\n",
        "      <th>29</th>\n",
        "      <td> 500.000000</td>\n",
        "      <td>   5502.511503</td>\n",
        "      <td>  2123.479358</td>\n",
        "    </tr>\n",
        "  </tbody>\n",
        "</table>\n",
        "<p>30 rows \u00d7 3 columns</p>\n",
        "</div>"
       ],
       "metadata": {},
       "output_type": "pyout",
       "prompt_number": 4,
       "text": [
        "         depth              C           std\n",
        "0    50.000000  151033.573996   8741.504890\n",
        "1    65.517241  128329.488039  10969.546249\n",
        "2    81.034483  104888.883965   4168.050039\n",
        "3    96.551724   83045.710832   5726.645618\n",
        "4   112.068966   89222.601078   7192.685403\n",
        "5   127.586207   63639.620401   3511.756627\n",
        "6   143.103448   52312.281977   5575.481446\n",
        "7   158.620690   45354.577469   2983.185706\n",
        "8   174.137931   35324.142496   2481.966298\n",
        "9   189.655172   31513.368304   4876.375570\n",
        "10  205.172414   32461.516013   3557.157911\n",
        "11  220.689655   25093.182353   3161.559031\n",
        "12  236.206897   19121.098527   2288.128159\n",
        "13  251.724138   19327.514837   2725.728069\n",
        "14  267.241379   16324.886470   2068.583031\n",
        "15  282.758621   17220.618004   2171.177142\n",
        "16  298.275862    8662.439133   2520.578655\n",
        "17  313.793103   15784.806925   1651.149212\n",
        "18  329.310345   11090.466267   2702.565197\n",
        "19  344.827586    9771.041397   2421.749773\n",
        "20  360.344828   11461.781545   1645.674054\n",
        "21  375.862069   10961.846403   1372.353974\n",
        "22  391.379310   10872.717510   2006.221964\n",
        "23  406.896552    8752.221676   1255.629768\n",
        "24  422.413793    7684.470615   2235.302043\n",
        "25  437.931034    8241.131052   1751.109117\n",
        "26  453.448276    3757.570838   1609.974895\n",
        "27  468.965517    6013.029077   1256.855296\n",
        "28  484.482759    6896.449878    901.765962\n",
        "29  500.000000    5502.511503   2123.479358\n",
        "\n",
        "[30 rows x 3 columns]"
       ]
      }
     ],
     "prompt_number": 4
    },
    {
     "cell_type": "markdown",
     "metadata": {},
     "source": [
      "The dataset is stored as a :class:`pandas.DataFrame` object."
     ]
    },
    {
     "cell_type": "heading",
     "level": 2,
     "metadata": {},
     "source": [
      "Fitting the model"
     ]
    },
    {
     "cell_type": "markdown",
     "metadata": {},
     "source": [
      "The default optimization method used by lmfit is the \u201cleastsq\u201d function of the scipy's [optimize](http://docs.scipy.org/doc/scipy/reference/optimize.html) package. This function is a wrapper around MINPACK\u2019s lmdif and lmder algorithms. Using this method, we must provide the array of the normalized residuals rather than the chi-square. "
     ]
    },
    {
     "cell_type": "code",
     "collapsed": false,
     "input": [
      "def residuals(params):\n",
      "    \"\"\"\n",
      "    Normalized residuals (to be used\n",
      "    with the `lmfit` package).\n",
      "    \n",
      "    \"\"\"\n",
      "    erosion = params['erosion_rate'].value\n",
      "    exposure = params['exposure_time'].value\n",
      "    density = params['soil_density'].value\n",
      "    inheritance = params['inheritance'].value\n",
      "    \n",
      "    C_mod = models.C_10Be(profile_data['depth'],\n",
      "                          erosion, exposure,\n",
      "                          density, inheritance)\n",
      "    \n",
      "    return (C_mod - profile_data['C']) / profile_data['std']\n",
      "    "
     ],
     "language": "python",
     "metadata": {},
     "outputs": [],
     "prompt_number": 5
    },
    {
     "cell_type": "markdown",
     "metadata": {},
     "source": [
      "Define the parameters to fit, with an initial value (needed for optimization) and optionally bounds."
     ]
    },
    {
     "cell_type": "code",
     "collapsed": false,
     "input": [
      "params = lmfit.Parameters()\n",
      "params.add('erosion_rate',   value=3e-3, min=0.)\n",
      "params.add('exposure_time', value=1e4, min=0.)\n",
      "params.add('soil_density', value=2.3)\n",
      "params.add('inheritance', value=1e4, min=0.)"
     ],
     "language": "python",
     "metadata": {},
     "outputs": [],
     "prompt_number": 6
    },
    {
     "cell_type": "markdown",
     "metadata": {},
     "source": [
      "Fit the model"
     ]
    },
    {
     "cell_type": "code",
     "collapsed": false,
     "input": [
      "res = lmfit.minimize(residuals, params, ftol=1e-4, xtol=1e-4)"
     ],
     "language": "python",
     "metadata": {},
     "outputs": [],
     "prompt_number": 7
    },
    {
     "cell_type": "markdown",
     "metadata": {},
     "source": [
      "Report the results (the MLE values for each parameter and the estimation of standard errors / correlations based on the Gaussian approximation of the MLE distribution)"
     ]
    },
    {
     "cell_type": "code",
     "collapsed": false,
     "input": [
      "lmfit.report_fit(params)"
     ],
     "language": "python",
     "metadata": {},
     "outputs": [
      {
       "output_type": "stream",
       "stream": "stdout",
       "text": [
        "[[Variables]]\n",
        "     erosion_rate:      9.697843e-11 +/- 0 (0.00%) initial =  0.003\n",
        "     exposure_time:     54271.31 +/- 0 (0.00%) initial =  10000\n",
        "     inheritance:       2699.429 +/- 0 (0.00%) initial =  10000\n",
        "     soil_density:      1.955547 +/- 0 (0.00%) initial =  2.3\n",
        "[[Correlations]] (unreported correlations are <  0.100)\n"
       ]
      }
     ],
     "prompt_number": 8
    },
    {
     "cell_type": "markdown",
     "metadata": {},
     "source": [
      "Print some info and output messages from the optimization process"
     ]
    },
    {
     "cell_type": "code",
     "collapsed": false,
     "input": [
      "print res.success\n",
      "print res.nfev      # number of function evaluations during optimization\n",
      "print res.lmdif_message\n",
      "print res.message"
     ],
     "language": "python",
     "metadata": {},
     "outputs": [
      {
       "output_type": "stream",
       "stream": "stdout",
       "text": [
        "True\n",
        "39\n",
        "Both actual and predicted relative reductions in the sum of squares\n",
        "  are at most 0.000100\n",
        "%s. Could not estimate error-bars\n"
       ]
      }
     ],
     "prompt_number": 9
    },
    {
     "cell_type": "markdown",
     "metadata": {},
     "source": [
      "Chi-square, degrees of freedom and reduced chi-square values for MLE"
     ]
    },
    {
     "cell_type": "code",
     "collapsed": false,
     "input": [
      "print res.chisqr\n",
      "print res.nfree\n",
      "print res.redchi"
     ],
     "language": "python",
     "metadata": {},
     "outputs": [
      {
       "output_type": "stream",
       "stream": "stdout",
       "text": [
        "28.7929000717\n",
        "26\n",
        "1.10741923353\n"
       ]
      }
     ],
     "prompt_number": 10
    },
    {
     "cell_type": "markdown",
     "metadata": {},
     "source": [
      "A more accurate, direct calculation of the confidence intervals (using a method similar to the profile likelihood). Note that `-inf` values generally means that the CI limit has not been reached within the parameter space - if it is bounded by physically acceptable values - or within the range defined by MLE +/- 3 * standard error estimated by normal approximation (a warning messages appears because no root has been found during the inversion of the F-test)."
     ]
    },
    {
     "cell_type": "code",
     "collapsed": false,
     "input": [
      "ci, trace = lmfit.conf_interval(res, trace=True)\n",
      "\n",
      "lmfit.report_ci(ci)"
     ],
     "language": "python",
     "metadata": {},
     "outputs": [
      {
       "output_type": "stream",
       "stream": "stderr",
       "text": [
        "/home/python/PythonEnvs/pygchem_py27_0/lib/python2.7/site-packages/lmfit/confidence.py:282: UserWarning: Warning, rel_change=-0.000561762018047 < 0.01  at iteration 2 and prob(erosion_rate=-0.00199999990302) = 9.74847861402e-05 < max(sigmas).\n",
        "  warn(errmsg)\n",
        "/home/python/PythonEnvs/pygchem_py27_0/lib/python2.7/site-packages/lmfit/confidence.py:282: UserWarning: Warning, rel_change=0.0 < 0.01  at iteration 1 and prob(erosion_rate=0.00100000009698) = 0.0 < max(sigmas).\n",
        "  warn(errmsg)\n"
       ]
      },
      {
       "output_type": "stream",
       "stream": "stdout",
       "text": [
        "                 99.70%    95.00%    67.40%     0.00%    67.40%    95.00%    99.70%\n",
        "exposure_time44718.9989048052.5614451143.6105454271.0567057605.8231661364.7558766061.88423\n",
        " soil_density   1.67983   1.77952   1.86848   1.95554   2.04550   2.14384   2.26270\n",
        " erosion_rate      -inf      -inf      -inf   0.00000       inf       inf       inf\n",
        "  inheritance 691.975641463.192972106.063812699.401933279.072433877.295914555.29987\n"
       ]
      }
     ],
     "prompt_number": 11
    },
    {
     "cell_type": "markdown",
     "metadata": {},
     "source": [
      "Calculate and Plot the $1-\\alpha$ confidence regions (same method than the one used here above). Note that the interpolated contours of the confidence regions are approximative, depending on the (coarse) resolution of the grid used to calculate the p-values."
     ]
    },
    {
     "cell_type": "code",
     "collapsed": false,
     "input": [
      "x, y, cr = lmfit.conf_interval2d(res,'erosion_rate', 'exposure_time', 20, 30,\n",
      "                                 limits=((0., 1.5e-3), (0., 1.3e5)))\n",
      "\n",
      "sns.set_style('darkgrid')\n",
      "sns.set_context('notebook')\n",
      "\n",
      "plt.contourf(x, y, cr, [0., 0.674, 0.95, 0.997, 1.],\n",
      "             cmap=plt.get_cmap('Blues'))\n",
      "plt.colorbar()\n",
      "plt.setp(plt.gca(),\n",
      "         xlabel='erosion rate [cm yr-1]',\n",
      "         ylabel='exposure time [yr]')\n",
      "plt.hlines(true_exposure, 0, 1.5e-3, colors='r')\n",
      "plt.vlines(true_erosion, 0, 1.3e5, colors='r')"
     ],
     "language": "python",
     "metadata": {},
     "outputs": [
      {
       "metadata": {},
       "output_type": "pyout",
       "prompt_number": 12,
       "text": [
        "<matplotlib.collections.LineCollection at 0x7f48197b2a10>"
       ]
      },
      {
       "metadata": {},
       "output_type": "display_data",
       "png": "[encoded data removed]",
       "text": [
        "<matplotlib.figure.Figure at 0x7f481998c050>"
       ]
      }
     ],
     "prompt_number": 12
    },
    {
     "cell_type": "markdown",
     "metadata": {},
     "source": [
      "Plot the measured concentrations and the predicted profile corresponding to the best fitted data model"
     ]
    },
    {
     "cell_type": "code",
     "collapsed": false,
     "input": [
      "depths = np.linspace(profile_data['depth'].min(),\n",
      "                     profile_data['depth'].max(),\n",
      "                     100)\n",
      "Cm_fitted = models.C_10Be(depths,\n",
      "                          res.values['erosion_rate'],\n",
      "                          res.values['exposure_time'],\n",
      "                          res.values['soil_density'],\n",
      "                          res.values['inheritance'])\n",
      "\n",
      "Cm_true = models.C_10Be(depths, true_erosion, true_exposure,\n",
      "                        true_density, true_inheritance)\n",
      "\n",
      "plt.figure()\n",
      "plt.plot(Cm_fitted, -depths, label='best-fitted model')\n",
      "plt.plot(Cm_true, -depths, color='r', label='true model')\n",
      "plt.errorbar(profile_data['C'],\n",
      "             -profile_data['depth'],\n",
      "             xerr=profile_data['std'],\n",
      "             fmt='o', markersize=4,\n",
      "             label='data')\n",
      "plt.setp(plt.gca(),\n",
      "         xlabel='10Be concentration [atoms g-1]',\n",
      "         ylabel='-1 * depth [cm]',\n",
      "         xlim=[0, None], ylim=[None, 0])\n",
      "\n",
      "plt.legend(loc='lower right')"
     ],
     "language": "python",
     "metadata": {},
     "outputs": [
      {
       "metadata": {},
       "output_type": "pyout",
       "prompt_number": 13,
       "text": [
        "<matplotlib.legend.Legend at 0x7f48197a3610>"
       ]
      },
      {
       "metadata": {},
       "output_type": "display_data",
       "png": "[encoded data removed]",
       "text": [
        "<matplotlib.figure.Figure at 0x7f48198f3d50>"
       ]
      }
     ],
     "prompt_number": 13
    },
    {
     "cell_type": "heading",
     "level": 2,
     "metadata": {},
     "source": [
      "Observations"
     ]
    },
    {
     "cell_type": "markdown",
     "metadata": {},
     "source": [
      "**4 free parameters**\n",
      "\n",
      "If we repeat the process by changing the initial values, or simply without changing anything, we see that the result can greatly differ, excepted the shape of the confidence regions (though it seems to change sometimes - due to a bug? -, the plotted CR differ greatly if we change the grid resolution, weird)\n",
      "\n",
      "The results show that each of the 4 parameters (erosion rate, time exposure, soil density and inheritance) are strongly correlated, which may result in extended \"flat\" areas of the likelihood (chi-square). No global minimum is well defined, and therefore, the optimization effectively converges but it stops to one particular location of the \"flat\" optimum region, depending on the initial values (and noise in the data?) "
     ]
    },
    {
     "cell_type": "code",
     "collapsed": false,
     "input": [],
     "language": "python",
     "metadata": {},
     "outputs": [],
     "prompt_number": 13
    }
   ],
   "metadata": {}
  }
 ]
}