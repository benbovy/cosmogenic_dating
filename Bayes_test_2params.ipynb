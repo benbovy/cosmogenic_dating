{
 "metadata": {
  "name": "",
  "signature": "sha256:3127c3534fa8d6e4aa718711dd19cd20c8b9c4d469774d9f44dfee172ca83288"
 },
 "nbformat": 3,
 "nbformat_minor": 0,
 "worksheets": [
  {
   "cells": [
    {
     "cell_type": "heading",
     "level": 1,
     "metadata": {},
     "source": [
      "Bayesian approach - Test case - 2 free parameters "
     ]
    },
    {
     "cell_type": "markdown",
     "metadata": {},
     "source": [
      "An example of applying the Bayesian approach with 2 free parameters only (erosion rate and exposure time), using the [PyMC](https://github.com/pymc-devs/pymc) package.\n",
      "\n",
      "For more info about the method used, see the notebook [Inference_Notes](Inference_Notes.ipynb).\n",
      "\n",
      "This example (a test case) is based on a generic dataset of 10Be concentration vs. depth, which is drawn from a distribution with given \"true\" parameters.\n",
      "\n",
      "This notebook has the following external dependencies: "
     ]
    },
    {
     "cell_type": "code",
     "collapsed": false,
     "input": [
      "import math\n",
      "\n",
      "import numpy as np\n",
      "import pandas as pd\n",
      "import pymc\n",
      "import matplotlib.pyplot as plt\n",
      "import seaborn as sns\n",
      "\n",
      "%matplotlib inline"
     ],
     "language": "python",
     "metadata": {},
     "outputs": [],
     "prompt_number": 1
    },
    {
     "cell_type": "heading",
     "level": 2,
     "metadata": {},
     "source": [
      "The mathematical (deterministic) model"
     ]
    },
    {
     "cell_type": "markdown",
     "metadata": {},
     "source": [
      "The mathematical model is available in the `models` Python module (see the notebook [Models](Models.ipynb))."
     ]
    },
    {
     "cell_type": "code",
     "collapsed": false,
     "input": [
      "import models"
     ],
     "language": "python",
     "metadata": {},
     "outputs": [],
     "prompt_number": 2
    },
    {
     "cell_type": "heading",
     "level": 2,
     "metadata": {},
     "source": [
      "The data"
     ]
    },
    {
     "cell_type": "markdown",
     "metadata": {},
     "source": [
      "The dataset is generated using the following parameter values"
     ]
    },
    {
     "cell_type": "code",
     "collapsed": false,
     "input": [
      "# the true parameters \n",
      "true_erosion = 1e-3\n",
      "true_exposure = 1e5\n",
      "\n",
      "# fixed parameters\n",
      "fixed_density = 2.0\n",
      "fixed_inheritance = 0.\n",
      "\n",
      "# depths and sample size\n",
      "depth_minmax = [50, 500]\n",
      "N = 30\n",
      "\n",
      "# perturbations\n",
      "err_magnitude = 20.\n",
      "err_variability = 5."
     ],
     "language": "python",
     "metadata": {},
     "outputs": [],
     "prompt_number": 3
    },
    {
     "cell_type": "markdown",
     "metadata": {},
     "source": [
      "The `gendata` Python module is used to generate the dataset (see the notebook [Datasets](Datasets.ipynb))."
     ]
    },
    {
     "cell_type": "code",
     "collapsed": false,
     "input": [
      "import gendata\n",
      "\n",
      "profile_data = gendata.generate_dataset(\n",
      "    models.C_10Be,\n",
      "    [true_erosion, true_exposure, fixed_density, fixed_inheritance],\n",
      "    zlimits=depth_minmax,\n",
      "    n=N,\n",
      "    err=[err_magnitude, err_variability]\n",
      ")\n",
      "\n",
      "profile_data"
     ],
     "language": "python",
     "metadata": {},
     "outputs": [
      {
       "html": [
        "<div style=\"max-height:1000px;max-width:1500px;overflow:auto;\">\n",
        "<table border=\"1\" class=\"dataframe\">\n",
        "  <thead>\n",
        "    <tr style=\"text-align: right;\">\n",
        "      <th></th>\n",
        "      <th>depth</th>\n",
        "      <th>C</th>\n",
        "      <th>std</th>\n",
        "    </tr>\n",
        "  </thead>\n",
        "  <tbody>\n",
        "    <tr>\n",
        "      <th>0 </th>\n",
        "      <td>  50.000000</td>\n",
        "      <td> 164646.804971</td>\n",
        "      <td> 7246.214797</td>\n",
        "    </tr>\n",
        "    <tr>\n",
        "      <th>1 </th>\n",
        "      <td>  65.517241</td>\n",
        "      <td> 139945.656423</td>\n",
        "      <td> 4694.358876</td>\n",
        "    </tr>\n",
        "    <tr>\n",
        "      <th>2 </th>\n",
        "      <td>  81.034483</td>\n",
        "      <td> 104804.416241</td>\n",
        "      <td> 4515.849236</td>\n",
        "    </tr>\n",
        "    <tr>\n",
        "      <th>3 </th>\n",
        "      <td>  96.551724</td>\n",
        "      <td>  83616.370489</td>\n",
        "      <td> 5328.510663</td>\n",
        "    </tr>\n",
        "    <tr>\n",
        "      <th>4 </th>\n",
        "      <td> 112.068966</td>\n",
        "      <td>  69070.664256</td>\n",
        "      <td> 5755.018312</td>\n",
        "    </tr>\n",
        "    <tr>\n",
        "      <th>5 </th>\n",
        "      <td> 127.586207</td>\n",
        "      <td>  68407.271936</td>\n",
        "      <td> 5886.214743</td>\n",
        "    </tr>\n",
        "    <tr>\n",
        "      <th>6 </th>\n",
        "      <td> 143.103448</td>\n",
        "      <td>  50059.908676</td>\n",
        "      <td> 5828.091753</td>\n",
        "    </tr>\n",
        "    <tr>\n",
        "      <th>7 </th>\n",
        "      <td> 158.620690</td>\n",
        "      <td>  47205.539203</td>\n",
        "      <td> 3759.697055</td>\n",
        "    </tr>\n",
        "    <tr>\n",
        "      <th>8 </th>\n",
        "      <td> 174.137931</td>\n",
        "      <td>  42710.970466</td>\n",
        "      <td> 4924.361067</td>\n",
        "    </tr>\n",
        "    <tr>\n",
        "      <th>9 </th>\n",
        "      <td> 189.655172</td>\n",
        "      <td>  29562.877929</td>\n",
        "      <td> 3852.225865</td>\n",
        "    </tr>\n",
        "    <tr>\n",
        "      <th>10</th>\n",
        "      <td> 205.172414</td>\n",
        "      <td>  33368.663037</td>\n",
        "      <td> 2392.127825</td>\n",
        "    </tr>\n",
        "    <tr>\n",
        "      <th>11</th>\n",
        "      <td> 220.689655</td>\n",
        "      <td>  28028.704149</td>\n",
        "      <td> 3731.505506</td>\n",
        "    </tr>\n",
        "    <tr>\n",
        "      <th>12</th>\n",
        "      <td> 236.206897</td>\n",
        "      <td>  24991.531196</td>\n",
        "      <td> 2436.588896</td>\n",
        "    </tr>\n",
        "    <tr>\n",
        "      <th>13</th>\n",
        "      <td> 251.724138</td>\n",
        "      <td>  15786.337554</td>\n",
        "      <td> 2159.890170</td>\n",
        "    </tr>\n",
        "    <tr>\n",
        "      <th>14</th>\n",
        "      <td> 267.241379</td>\n",
        "      <td>  20613.006215</td>\n",
        "      <td> 3403.223099</td>\n",
        "    </tr>\n",
        "    <tr>\n",
        "      <th>15</th>\n",
        "      <td> 282.758621</td>\n",
        "      <td>  15883.045725</td>\n",
        "      <td> 2120.986663</td>\n",
        "    </tr>\n",
        "    <tr>\n",
        "      <th>16</th>\n",
        "      <td> 298.275862</td>\n",
        "      <td>  15371.425741</td>\n",
        "      <td> 2103.435946</td>\n",
        "    </tr>\n",
        "    <tr>\n",
        "      <th>17</th>\n",
        "      <td> 313.793103</td>\n",
        "      <td>  12807.532690</td>\n",
        "      <td> 1974.772720</td>\n",
        "    </tr>\n",
        "    <tr>\n",
        "      <th>18</th>\n",
        "      <td> 329.310345</td>\n",
        "      <td>  14097.191111</td>\n",
        "      <td> 1609.028868</td>\n",
        "    </tr>\n",
        "    <tr>\n",
        "      <th>19</th>\n",
        "      <td> 344.827586</td>\n",
        "      <td>  12128.263339</td>\n",
        "      <td> 2080.154203</td>\n",
        "    </tr>\n",
        "    <tr>\n",
        "      <th>20</th>\n",
        "      <td> 360.344828</td>\n",
        "      <td>   9357.142721</td>\n",
        "      <td> 1932.778390</td>\n",
        "    </tr>\n",
        "    <tr>\n",
        "      <th>21</th>\n",
        "      <td> 375.862069</td>\n",
        "      <td>   9223.208481</td>\n",
        "      <td> 1070.071844</td>\n",
        "    </tr>\n",
        "    <tr>\n",
        "      <th>22</th>\n",
        "      <td> 391.379310</td>\n",
        "      <td>   6646.650690</td>\n",
        "      <td> 1802.140092</td>\n",
        "    </tr>\n",
        "    <tr>\n",
        "      <th>23</th>\n",
        "      <td> 406.896552</td>\n",
        "      <td>   8584.329077</td>\n",
        "      <td> 1651.810494</td>\n",
        "    </tr>\n",
        "    <tr>\n",
        "      <th>24</th>\n",
        "      <td> 422.413793</td>\n",
        "      <td>  10533.685591</td>\n",
        "      <td> 2216.628289</td>\n",
        "    </tr>\n",
        "    <tr>\n",
        "      <th>25</th>\n",
        "      <td> 437.931034</td>\n",
        "      <td>   8995.316606</td>\n",
        "      <td> 1613.037409</td>\n",
        "    </tr>\n",
        "    <tr>\n",
        "      <th>26</th>\n",
        "      <td> 453.448276</td>\n",
        "      <td>   7611.556721</td>\n",
        "      <td> 1878.782161</td>\n",
        "    </tr>\n",
        "    <tr>\n",
        "      <th>27</th>\n",
        "      <td> 468.965517</td>\n",
        "      <td>   8311.046879</td>\n",
        "      <td> 1441.655169</td>\n",
        "    </tr>\n",
        "    <tr>\n",
        "      <th>28</th>\n",
        "      <td> 484.482759</td>\n",
        "      <td>   2824.392297</td>\n",
        "      <td> 2370.549270</td>\n",
        "    </tr>\n",
        "    <tr>\n",
        "      <th>29</th>\n",
        "      <td> 500.000000</td>\n",
        "      <td>   4625.146006</td>\n",
        "      <td> 1379.133538</td>\n",
        "    </tr>\n",
        "  </tbody>\n",
        "</table>\n",
        "<p>30 rows \u00d7 3 columns</p>\n",
        "</div>"
       ],
       "metadata": {},
       "output_type": "pyout",
       "prompt_number": 4,
       "text": [
        "         depth              C          std\n",
        "0    50.000000  164646.804971  7246.214797\n",
        "1    65.517241  139945.656423  4694.358876\n",
        "2    81.034483  104804.416241  4515.849236\n",
        "3    96.551724   83616.370489  5328.510663\n",
        "4   112.068966   69070.664256  5755.018312\n",
        "5   127.586207   68407.271936  5886.214743\n",
        "6   143.103448   50059.908676  5828.091753\n",
        "7   158.620690   47205.539203  3759.697055\n",
        "8   174.137931   42710.970466  4924.361067\n",
        "9   189.655172   29562.877929  3852.225865\n",
        "10  205.172414   33368.663037  2392.127825\n",
        "11  220.689655   28028.704149  3731.505506\n",
        "12  236.206897   24991.531196  2436.588896\n",
        "13  251.724138   15786.337554  2159.890170\n",
        "14  267.241379   20613.006215  3403.223099\n",
        "15  282.758621   15883.045725  2120.986663\n",
        "16  298.275862   15371.425741  2103.435946\n",
        "17  313.793103   12807.532690  1974.772720\n",
        "18  329.310345   14097.191111  1609.028868\n",
        "19  344.827586   12128.263339  2080.154203\n",
        "20  360.344828    9357.142721  1932.778390\n",
        "21  375.862069    9223.208481  1070.071844\n",
        "22  391.379310    6646.650690  1802.140092\n",
        "23  406.896552    8584.329077  1651.810494\n",
        "24  422.413793   10533.685591  2216.628289\n",
        "25  437.931034    8995.316606  1613.037409\n",
        "26  453.448276    7611.556721  1878.782161\n",
        "27  468.965517    8311.046879  1441.655169\n",
        "28  484.482759    2824.392297  2370.549270\n",
        "29  500.000000    4625.146006  1379.133538\n",
        "\n",
        "[30 rows x 3 columns]"
       ]
      }
     ],
     "prompt_number": 4
    },
    {
     "cell_type": "heading",
     "level": 2,
     "metadata": {},
     "source": [
      "The statistical model (used for computing the PPD values)"
     ]
    },
    {
     "cell_type": "markdown",
     "metadata": {},
     "source": [
      "PyMC allows to define the statistical model in a very nice way. The \"nodes\" of the model - i.e., the elements that contribute to the Posterior probability distribution - must be defined first.\n",
      "\n",
      "- Define the prior probability distribution for each free parameter (here the uniform distribution is used, with given bounds)"
     ]
    },
    {
     "cell_type": "code",
     "collapsed": false,
     "input": [
      "erosion_rate = pymc.Uniform('erosion_rate', 0., 4e-3)\n",
      "exposure_time = pymc.Uniform('exposure_time', 0., 4e5)"
     ],
     "language": "python",
     "metadata": {},
     "outputs": [],
     "prompt_number": 5
    },
    {
     "cell_type": "markdown",
     "metadata": {},
     "source": [
      "- Define the deterministic part, i.e., the model used to predict nucleide concentration vs. depth"
     ]
    },
    {
     "cell_type": "code",
     "collapsed": false,
     "input": [
      "@pymc.deterministic(plot=False)\n",
      "def mprofile(erosion=erosion_rate, exposure=exposure_time):\n",
      "    \"\"\"\n",
      "    Modelled concentration profile.\n",
      "    \"\"\"\n",
      "    return models.C_10Be(profile_data['depth'].values,\n",
      "                         erosion, exposure,\n",
      "                         fixed_density, fixed_inheritance)"
     ],
     "language": "python",
     "metadata": {},
     "outputs": [],
     "prompt_number": 6
    },
    {
     "cell_type": "markdown",
     "metadata": {},
     "source": [
      "- Define the distribution of measured nucleide concentrations, which is here assumed to be a Gaussian with $\\mu$ is predicted by the model above and $\\sigma$ the known measurement errors. The likelihood will be derived from this distribution."
     ]
    },
    {
     "cell_type": "code",
     "collapsed": false,
     "input": [
      "d = pymc.Normal('data_distribution', mprofile, 1./profile_data['std']**2,\n",
      "                value=profile_data['C'].values, observed=True)"
     ],
     "language": "python",
     "metadata": {},
     "outputs": [],
     "prompt_number": 7
    },
    {
     "cell_type": "markdown",
     "metadata": {},
     "source": [
      "PyMC builds the model automatically from all nodes."
     ]
    },
    {
     "cell_type": "code",
     "collapsed": false,
     "input": [
      "smodel = pymc.Model({'erosion_rate': erosion_rate,\n",
      "                     'exposure_time': exposure_time,\n",
      "                     'mprofile': mprofile,\n",
      "                     'data_distribution': d})"
     ],
     "language": "python",
     "metadata": {},
     "outputs": [],
     "prompt_number": 8
    },
    {
     "cell_type": "markdown",
     "metadata": {},
     "source": [
      "PyMC use the prior distributions to generate a random initial value for each parameter (further needed)"
     ]
    },
    {
     "cell_type": "code",
     "collapsed": false,
     "input": [
      "print erosion_rate.value\n",
      "print exposure_time.value"
     ],
     "language": "python",
     "metadata": {},
     "outputs": [
      {
       "output_type": "stream",
       "stream": "stdout",
       "text": [
        "0.00129259429611\n",
        "212815.732925\n"
       ]
      }
     ],
     "prompt_number": 9
    },
    {
     "cell_type": "markdown",
     "metadata": {},
     "source": [
      "The log-PPD value that correspond to the initial values is given by the `logp` attribute"
     ]
    },
    {
     "cell_type": "code",
     "collapsed": false,
     "input": [
      "smodel.logp"
     ],
     "language": "python",
     "metadata": {},
     "outputs": [
      {
       "metadata": {},
       "output_type": "pyout",
       "prompt_number": 10,
       "text": [
        "-422.2760683441503"
       ]
      }
     ],
     "prompt_number": 10
    },
    {
     "cell_type": "heading",
     "level": 2,
     "metadata": {},
     "source": [
      "Fitting the statistical model"
     ]
    },
    {
     "cell_type": "markdown",
     "metadata": {},
     "source": [
      ":class:`pymc.MAP` allows to \"clone\" a model and set all parameters to their maximum a posteriori values. It uses the scipy's [optimize](http://docs.scipy.org/doc/scipy/reference/optimize.html) package to maximize the log-PPD over the parameter space. "
     ]
    },
    {
     "cell_type": "code",
     "collapsed": false,
     "input": [
      "maxppd_smodel = pymc.MAP(smodel)\n",
      "maxppd_smodel.fit(method='fmin', iterlim=15000, tol=1e-6, verbose=0)"
     ],
     "language": "python",
     "metadata": {},
     "outputs": [],
     "prompt_number": 11
    },
    {
     "cell_type": "markdown",
     "metadata": {},
     "source": [
      "See the resulting optimized values assigned to each parameter (and compare it to the true values defined above, it should be closer than the initial values)"
     ]
    },
    {
     "cell_type": "code",
     "collapsed": false,
     "input": [
      "print erosion_rate.value\n",
      "print exposure_time.value"
     ],
     "language": "python",
     "metadata": {},
     "outputs": [
      {
       "output_type": "stream",
       "stream": "stdout",
       "text": [
        "0.00098553595361\n",
        "102125.233535\n"
       ]
      }
     ],
     "prompt_number": 12
    },
    {
     "cell_type": "markdown",
     "metadata": {},
     "source": [
      "The log-PPD value at the maximum "
     ]
    },
    {
     "cell_type": "code",
     "collapsed": true,
     "input": [
      "maxppd_smodel.logp_at_max"
     ],
     "language": "python",
     "metadata": {},
     "outputs": [
      {
       "metadata": {},
       "output_type": "pyout",
       "prompt_number": 13,
       "text": [
        "-288.81231529022523"
       ]
      }
     ],
     "prompt_number": 13
    },
    {
     "cell_type": "heading",
     "level": 2,
     "metadata": {},
     "source": [
      "Markov-Chain Monte-Carlo sampling"
     ]
    },
    {
     "cell_type": "markdown",
     "metadata": {},
     "source": [
      ":class:`pymc.MCMC` allows to sample the parameter space following the PPD with MCMC. It is a good idea to use the results of the log-PPD maximization as initial values for MCMC. Metropolis-Hastings is the default samplerused by MCMC."
     ]
    },
    {
     "cell_type": "code",
     "collapsed": false,
     "input": [
      "mcmc_smodel = pymc.MCMC(smodel)"
     ],
     "language": "python",
     "metadata": {},
     "outputs": [],
     "prompt_number": 14
    },
    {
     "cell_type": "markdown",
     "metadata": {},
     "source": [
      "Generate samples, discard the first $n$ samples (burn-in, `burn` argument) and keep only one sample every $t$ samples (thinning, `thin` argument) in order to obtain *idependent* samples *from the PPD*."
     ]
    },
    {
     "cell_type": "code",
     "collapsed": false,
     "input": [
      "mcmc_smodel.sample(50000, burn=5000, thin=40)"
     ],
     "language": "python",
     "metadata": {},
     "outputs": [
      {
       "output_type": "stream",
       "stream": "stdout",
       "text": [
        "\r",
        " [                  0%                  ] 450 of 50000 complete in 0.5 sec"
       ]
      },
      {
       "output_type": "stream",
       "stream": "stdout",
       "text": [
        "\r",
        " [                  1%                  ] 900 of 50000 complete in 1.0 sec"
       ]
      },
      {
       "output_type": "stream",
       "stream": "stdout",
       "text": [
        "\r",
        " [-                 2%                  ] 1328 of 50000 complete in 1.5 sec"
       ]
      },
      {
       "output_type": "stream",
       "stream": "stdout",
       "text": [
        "\r",
        " [-                 3%                  ] 1770 of 50000 complete in 2.0 sec"
       ]
      },
      {
       "output_type": "stream",
       "stream": "stdout",
       "text": [
        "\r",
        " [-                 4%                  ] 2472 of 50000 complete in 2.5 sec"
       ]
      },
      {
       "output_type": "stream",
       "stream": "stdout",
       "text": [
        "\r",
        " [--                6%                  ] 3127 of 50000 complete in 3.0 sec"
       ]
      },
      {
       "output_type": "stream",
       "stream": "stdout",
       "text": [
        "\r",
        " [--                7%                  ] 3929 of 50000 complete in 3.5 sec"
       ]
      },
      {
       "output_type": "stream",
       "stream": "stdout",
       "text": [
        "\r",
        " [---               9%                  ] 4722 of 50000 complete in 4.0 sec"
       ]
      },
      {
       "output_type": "stream",
       "stream": "stdout",
       "text": [
        "\r",
        " [----             11%                  ] 5598 of 50000 complete in 4.5 sec"
       ]
      },
      {
       "output_type": "stream",
       "stream": "stdout",
       "text": [
        "\r",
        " [----             12%                  ] 6375 of 50000 complete in 5.0 sec"
       ]
      },
      {
       "output_type": "stream",
       "stream": "stdout",
       "text": [
        "\r",
        " [-----            13%                  ] 6802 of 50000 complete in 5.5 sec"
       ]
      },
      {
       "output_type": "stream",
       "stream": "stdout",
       "text": [
        "\r",
        " [-----            14%                  ] 7127 of 50000 complete in 6.0 sec"
       ]
      },
      {
       "output_type": "stream",
       "stream": "stdout",
       "text": [
        "\r",
        " [-----            14%                  ] 7482 of 50000 complete in 6.5 sec"
       ]
      },
      {
       "output_type": "stream",
       "stream": "stdout",
       "text": [
        "\r",
        " [------           16%                  ] 8126 of 50000 complete in 7.0 sec"
       ]
      },
      {
       "output_type": "stream",
       "stream": "stdout",
       "text": [
        "\r",
        " [------           17%                  ] 8866 of 50000 complete in 7.5 sec"
       ]
      },
      {
       "output_type": "stream",
       "stream": "stdout",
       "text": [
        "\r",
        " [-------          18%                  ] 9492 of 50000 complete in 8.0 sec"
       ]
      },
      {
       "output_type": "stream",
       "stream": "stdout",
       "text": [
        "\r",
        " [-------          20%                  ] 10320 of 50000 complete in 8.5 sec"
       ]
      },
      {
       "output_type": "stream",
       "stream": "stdout",
       "text": [
        "\r",
        " [--------         21%                  ] 10924 of 50000 complete in 9.0 sec"
       ]
      },
      {
       "output_type": "stream",
       "stream": "stdout",
       "text": [
        "\r",
        " [--------         22%                  ] 11457 of 50000 complete in 9.5 sec"
       ]
      },
      {
       "output_type": "stream",
       "stream": "stdout",
       "text": [
        "\r",
        " [--------         23%                  ] 11793 of 50000 complete in 10.0 sec"
       ]
      },
      {
       "output_type": "stream",
       "stream": "stdout",
       "text": [
        "\r",
        " [---------        24%                  ] 12104 of 50000 complete in 10.5 sec"
       ]
      },
      {
       "output_type": "stream",
       "stream": "stdout",
       "text": [
        "\r",
        " [---------        25%                  ] 12517 of 50000 complete in 11.0 sec"
       ]
      },
      {
       "output_type": "stream",
       "stream": "stdout",
       "text": [
        "\r",
        " [---------        26%                  ] 13138 of 50000 complete in 11.5 sec"
       ]
      },
      {
       "output_type": "stream",
       "stream": "stdout",
       "text": [
        "\r",
        " [----------       27%                  ] 13776 of 50000 complete in 12.0 sec"
       ]
      },
      {
       "output_type": "stream",
       "stream": "stdout",
       "text": [
        "\r",
        " [-----------      29%                  ] 14540 of 50000 complete in 12.5 sec"
       ]
      },
      {
       "output_type": "stream",
       "stream": "stdout",
       "text": [
        "\r",
        " [-----------      29%                  ] 14879 of 50000 complete in 13.0 sec"
       ]
      },
      {
       "output_type": "stream",
       "stream": "stdout",
       "text": [
        "\r",
        " [-----------      31%                  ] 15671 of 50000 complete in 13.5 sec"
       ]
      },
      {
       "output_type": "stream",
       "stream": "stdout",
       "text": [
        "\r",
        " [------------     32%                  ] 16341 of 50000 complete in 14.0 sec"
       ]
      },
      {
       "output_type": "stream",
       "stream": "stdout",
       "text": [
        "\r",
        " [-------------    34%                  ] 17196 of 50000 complete in 14.5 sec"
       ]
      },
      {
       "output_type": "stream",
       "stream": "stdout",
       "text": [
        "\r",
        " [-------------    36%                  ] 18023 of 50000 complete in 15.0 sec"
       ]
      },
      {
       "output_type": "stream",
       "stream": "stdout",
       "text": [
        "\r",
        " [--------------   37%                  ] 18765 of 50000 complete in 15.5 sec"
       ]
      },
      {
       "output_type": "stream",
       "stream": "stdout",
       "text": [
        "\r",
        " [--------------   39%                  ] 19518 of 50000 complete in 16.0 sec"
       ]
      },
      {
       "output_type": "stream",
       "stream": "stdout",
       "text": [
        "\r",
        " [---------------  40%                  ] 20286 of 50000 complete in 16.5 sec"
       ]
      },
      {
       "output_type": "stream",
       "stream": "stdout",
       "text": [
        "\r",
        " [---------------  41%                  ] 20707 of 50000 complete in 17.0 sec"
       ]
      },
      {
       "output_type": "stream",
       "stream": "stdout",
       "text": [
        "\r",
        " [---------------- 42%                  ] 21111 of 50000 complete in 17.5 sec"
       ]
      },
      {
       "output_type": "stream",
       "stream": "stdout",
       "text": [
        "\r",
        " [---------------- 43%                  ] 21504 of 50000 complete in 18.0 sec"
       ]
      },
      {
       "output_type": "stream",
       "stream": "stdout",
       "text": [
        "\r",
        " [---------------- 43%                  ] 21895 of 50000 complete in 18.5 sec"
       ]
      },
      {
       "output_type": "stream",
       "stream": "stdout",
       "text": [
        "\r",
        " [---------------- 44%                  ] 22294 of 50000 complete in 19.0 sec"
       ]
      },
      {
       "output_type": "stream",
       "stream": "stdout",
       "text": [
        "\r",
        " [-----------------45%                  ] 22682 of 50000 complete in 19.5 sec"
       ]
      },
      {
       "output_type": "stream",
       "stream": "stdout",
       "text": [
        "\r",
        " [-----------------46%                  ] 23075 of 50000 complete in 20.0 sec"
       ]
      },
      {
       "output_type": "stream",
       "stream": "stdout",
       "text": [
        "\r",
        " [-----------------46%                  ] 23467 of 50000 complete in 20.5 sec"
       ]
      },
      {
       "output_type": "stream",
       "stream": "stdout",
       "text": [
        "\r",
        " [-----------------47%                  ] 23855 of 50000 complete in 21.0 sec"
       ]
      },
      {
       "output_type": "stream",
       "stream": "stdout",
       "text": [
        "\r",
        " [-----------------48%                  ] 24245 of 50000 complete in 21.5 sec"
       ]
      },
      {
       "output_type": "stream",
       "stream": "stdout",
       "text": [
        "\r",
        " [-----------------49%                  ] 24641 of 50000 complete in 22.0 sec"
       ]
      },
      {
       "output_type": "stream",
       "stream": "stdout",
       "text": [
        "\r",
        " [-----------------50%                  ] 25031 of 50000 complete in 22.5 sec"
       ]
      },
      {
       "output_type": "stream",
       "stream": "stdout",
       "text": [
        "\r",
        " [-----------------50%                  ] 25425 of 50000 complete in 23.0 sec"
       ]
      },
      {
       "output_type": "stream",
       "stream": "stdout",
       "text": [
        "\r",
        " [-----------------51%                  ] 25810 of 50000 complete in 23.5 sec"
       ]
      },
      {
       "output_type": "stream",
       "stream": "stdout",
       "text": [
        "\r",
        " [-----------------52%                  ] 26196 of 50000 complete in 24.0 sec"
       ]
      },
      {
       "output_type": "stream",
       "stream": "stdout",
       "text": [
        "\r",
        " [-----------------53%                  ] 26581 of 50000 complete in 24.5 sec"
       ]
      },
      {
       "output_type": "stream",
       "stream": "stdout",
       "text": [
        "\r",
        " [-----------------53%                  ] 26976 of 50000 complete in 25.0 sec"
       ]
      },
      {
       "output_type": "stream",
       "stream": "stdout",
       "text": [
        "\r",
        " [-----------------54%                  ] 27369 of 50000 complete in 25.5 sec"
       ]
      },
      {
       "output_type": "stream",
       "stream": "stdout",
       "text": [
        "\r",
        " [-----------------55%-                 ] 27771 of 50000 complete in 26.0 sec"
       ]
      },
      {
       "output_type": "stream",
       "stream": "stdout",
       "text": [
        "\r",
        " [-----------------56%-                 ] 28306 of 50000 complete in 26.5 sec"
       ]
      },
      {
       "output_type": "stream",
       "stream": "stdout",
       "text": [
        "\r",
        " [-----------------57%--                ] 28949 of 50000 complete in 27.0 sec"
       ]
      },
      {
       "output_type": "stream",
       "stream": "stdout",
       "text": [
        "\r",
        " [-----------------59%--                ] 29710 of 50000 complete in 27.5 sec"
       ]
      },
      {
       "output_type": "stream",
       "stream": "stdout",
       "text": [
        "\r",
        " [-----------------60%---               ] 30452 of 50000 complete in 28.0 sec"
       ]
      },
      {
       "output_type": "stream",
       "stream": "stdout",
       "text": [
        "\r",
        " [-----------------62%---               ] 31302 of 50000 complete in 28.5 sec"
       ]
      },
      {
       "output_type": "stream",
       "stream": "stdout",
       "text": [
        "\r",
        " [-----------------64%----              ] 32162 of 50000 complete in 29.0 sec"
       ]
      },
      {
       "output_type": "stream",
       "stream": "stdout",
       "text": [
        "\r",
        " [-----------------65%----              ] 32675 of 50000 complete in 29.5 sec"
       ]
      },
      {
       "output_type": "stream",
       "stream": "stdout",
       "text": [
        "\r",
        " [-----------------65%-----             ] 32996 of 50000 complete in 30.0 sec"
       ]
      },
      {
       "output_type": "stream",
       "stream": "stdout",
       "text": [
        "\r",
        " [-----------------66%-----             ] 33293 of 50000 complete in 30.5 sec"
       ]
      },
      {
       "output_type": "stream",
       "stream": "stdout",
       "text": [
        "\r",
        " [-----------------67%-----             ] 33849 of 50000 complete in 31.0 sec"
       ]
      },
      {
       "output_type": "stream",
       "stream": "stdout",
       "text": [
        "\r",
        " [-----------------69%------            ] 34630 of 50000 complete in 31.5 sec"
       ]
      },
      {
       "output_type": "stream",
       "stream": "stdout",
       "text": [
        "\r",
        " [-----------------70%------            ] 35219 of 50000 complete in 32.0 sec"
       ]
      },
      {
       "output_type": "stream",
       "stream": "stdout",
       "text": [
        "\r",
        " [-----------------72%-------           ] 36106 of 50000 complete in 32.5 sec"
       ]
      },
      {
       "output_type": "stream",
       "stream": "stdout",
       "text": [
        "\r",
        " [-----------------73%--------          ] 36847 of 50000 complete in 33.0 sec"
       ]
      },
      {
       "output_type": "stream",
       "stream": "stdout",
       "text": [
        "\r",
        " [-----------------75%--------          ] 37558 of 50000 complete in 33.5 sec"
       ]
      },
      {
       "output_type": "stream",
       "stream": "stdout",
       "text": [
        "\r",
        " [-----------------76%--------          ] 38075 of 50000 complete in 34.0 sec"
       ]
      },
      {
       "output_type": "stream",
       "stream": "stdout",
       "text": [
        "\r",
        " [-----------------76%---------         ] 38484 of 50000 complete in 34.5 sec"
       ]
      },
      {
       "output_type": "stream",
       "stream": "stdout",
       "text": [
        "\r",
        " [-----------------78%---------         ] 39106 of 50000 complete in 35.0 sec"
       ]
      },
      {
       "output_type": "stream",
       "stream": "stdout",
       "text": [
        "\r",
        " [-----------------79%----------        ] 39993 of 50000 complete in 35.5 sec"
       ]
      },
      {
       "output_type": "stream",
       "stream": "stdout",
       "text": [
        "\r",
        " [-----------------81%----------        ] 40626 of 50000 complete in 36.0 sec"
       ]
      },
      {
       "output_type": "stream",
       "stream": "stdout",
       "text": [
        "\r",
        " [-----------------82%-----------       ] 41394 of 50000 complete in 36.5 sec"
       ]
      },
      {
       "output_type": "stream",
       "stream": "stdout",
       "text": [
        "\r",
        " [-----------------83%-----------       ] 41819 of 50000 complete in 37.0 sec"
       ]
      },
      {
       "output_type": "stream",
       "stream": "stdout",
       "text": [
        "\r",
        " [-----------------85%------------      ] 42505 of 50000 complete in 37.5 sec"
       ]
      },
      {
       "output_type": "stream",
       "stream": "stdout",
       "text": [
        "\r",
        " [-----------------86%------------      ] 43109 of 50000 complete in 38.0 sec"
       ]
      },
      {
       "output_type": "stream",
       "stream": "stdout",
       "text": [
        "\r",
        " [-----------------87%-------------     ] 43932 of 50000 complete in 38.5 sec"
       ]
      },
      {
       "output_type": "stream",
       "stream": "stdout",
       "text": [
        "\r",
        " [-----------------89%--------------    ] 44788 of 50000 complete in 39.0 sec"
       ]
      },
      {
       "output_type": "stream",
       "stream": "stdout",
       "text": [
        "\r",
        " [-----------------91%--------------    ] 45567 of 50000 complete in 39.5 sec"
       ]
      },
      {
       "output_type": "stream",
       "stream": "stdout",
       "text": [
        "\r",
        " [-----------------92%---------------   ] 46315 of 50000 complete in 40.0 sec"
       ]
      },
      {
       "output_type": "stream",
       "stream": "stdout",
       "text": [
        "\r",
        " [-----------------94%---------------   ] 47150 of 50000 complete in 40.5 sec"
       ]
      },
      {
       "output_type": "stream",
       "stream": "stdout",
       "text": [
        "\r",
        " [-----------------95%----------------  ] 47744 of 50000 complete in 41.0 sec"
       ]
      },
      {
       "output_type": "stream",
       "stream": "stdout",
       "text": [
        "\r",
        " [-----------------96%----------------  ] 48147 of 50000 complete in 41.5 sec"
       ]
      },
      {
       "output_type": "stream",
       "stream": "stdout",
       "text": [
        "\r",
        " [-----------------97%----------------  ] 48528 of 50000 complete in 42.0 sec"
       ]
      },
      {
       "output_type": "stream",
       "stream": "stdout",
       "text": [
        "\r",
        " [-----------------97%----------------- ] 48919 of 50000 complete in 42.6 sec"
       ]
      },
      {
       "output_type": "stream",
       "stream": "stdout",
       "text": [
        "\r",
        " [-----------------98%----------------- ] 49302 of 50000 complete in 43.1 sec"
       ]
      },
      {
       "output_type": "stream",
       "stream": "stdout",
       "text": [
        "\r",
        " [-----------------99%----------------- ] 49689 of 50000 complete in 43.6 sec"
       ]
      },
      {
       "output_type": "stream",
       "stream": "stdout",
       "text": [
        "\r",
        " [-----------------100%-----------------] 50000 of 50000 complete in 44.0 sec"
       ]
      }
     ],
     "prompt_number": 15
    },
    {
     "cell_type": "markdown",
     "metadata": {},
     "source": [
      "Plot some characteristics of the samples for each parameter in order to evaluate the quality of sampling.\n",
      "\n",
      "- trace: plot of the values of the - burnt and thinned - samples (in the order of which it has been generated), useful to check if the burn-in setting was chosen appropriately (no trend visible for the firsts samples)\n",
      "- acorr: autocorrelation of the values of the - burnt and thinned - samples, useful to check if the thinning setting was chosen appropriately (rapid decrease of autocorrelation)\n",
      "- histogram of the samples"
     ]
    },
    {
     "cell_type": "code",
     "collapsed": false,
     "input": [
      "pymc.Matplot.plot(mcmc_smodel)"
     ],
     "language": "python",
     "metadata": {},
     "outputs": [
      {
       "output_type": "stream",
       "stream": "stdout",
       "text": [
        "Plotting exposure_time\n",
        "Plotting"
       ]
      },
      {
       "output_type": "stream",
       "stream": "stdout",
       "text": [
        " erosion_rate\n"
       ]
      },
      {
       "metadata": {},
       "output_type": "display_data",
       "png": "[encoded data removed]",
       "text": [
        "<matplotlib.figure.Figure at 0x7fac6a299450>"
       ]
      },
      {
       "metadata": {},
       "output_type": "display_data",
       "png": "[encoded data removed]",
       "text": [
        "<matplotlib.figure.Figure at 0x7fac69fd2bd0>"
       ]
      }
     ],
     "prompt_number": 16
    },
    {
     "cell_type": "markdown",
     "metadata": {},
     "source": [
      "Print a summary about the distribution of the samples for each parameter. It shows the values of various moments and percentiles of the PPD, the 95% Highest Posterior Density (HPD) interval (see [here](http://www.bayesian-inference.com/credible) for an explanation) and an estimation of the Monte-Carlo integration error. "
     ]
    },
    {
     "cell_type": "code",
     "collapsed": false,
     "input": [
      "mcmc_smodel.summary()"
     ],
     "language": "python",
     "metadata": {},
     "outputs": [
      {
       "output_type": "stream",
       "stream": "stdout",
       "text": [
        "\n",
        "exposure_time:\n",
        " \n",
        "\tMean             SD               MC Error        95% HPD interval\n",
        "\t------------------------------------------------------------------\n",
        "\t102170.348       7687.582         360.837[  87194.802  118120.02 ]\n",
        "\t\n",
        "\t\n",
        "\tPosterior quantiles:\n",
        "\t\n",
        "\t2.5             25              50              75             97.5\n",
        "\t |---------------|===============|===============|---------------|\n",
        "\t87194.802        97141.709       101974.573     107246.395    118120.02\n",
        "\t\n",
        "\n",
        "erosion_rate:\n",
        " \n",
        "\tMean             SD               MC Error        95% HPD interval\n",
        "\t------------------------------------------------------------------\n",
        "\t0.001            0.0              0.0              [ 0.001  0.001]\n",
        "\t\n",
        "\t\n",
        "\tPosterior quantiles:\n",
        "\t\n",
        "\t2.5             25              50              75             97.5\n",
        "\t |---------------|===============|===============|---------------|\n",
        "\t0.001            0.001           0.001          0.001         0.001\n",
        "\t\n",
        "\n",
        "mprofile:\n",
        " \n",
        "\tMean             SD               MC Error        95% HPD interval\n",
        "\t------------------------------------------------------------------\n",
        "\t158674.767       3149.538         108.706[ 152695.602  164525.008]\n",
        "\t132247.598       2559.881         86.67  [ 127412.963  137029.153]\n",
        "\t110455.947       2078.513         68.744 [ 106633.126  114433.976]\n",
        "\t92482.955        1687.15          54.257   [ 89484.599  95823.882]\n",
        "\t77655.776        1370.926         42.68    [ 75299.576  80476.233]\n",
        "\t65420.187        1117.804         33.608   [ 63463.096  67646.947]\n",
        "\t55319.675        918.053          26.74    [ 53700.142  57176.258]\n",
        "\t46978.207        763.725          21.852   [ 45715.328  48646.341]\n",
        "\t40086.042        648.082          18.731   [ 38949.612  41481.415]\n",
        "\t34388.043        564.992          17.085   [ 33364.675  35610.353]\n",
        "\t29674.049        508.434          16.52    [ 28685.741  30687.305]\n",
        "\t25770.946        472.375          16.618   [ 24823.885  26669.851]\n",
        "\t22536.133        451.082          17.047   [ 21620.231  23378.118]\n",
        "\t19852.147        439.626          17.592   [ 19040.187  20739.218]\n",
        "\t17622.227        434.196          18.134   [ 16830.289  18507.135]\n",
        "\t15766.663        432.109          18.616   [ 14946.92   16622.721]\n",
        "\t14219.796        431.617          19.012   [ 13422.476  15106.864]\n",
        "\t12927.534        431.65           19.32    [ 12103.506  13807.428]\n",
        "\t11845.316        431.596          19.541   [ 10973.901  12682.794]\n",
        "\t10936.432        431.136          19.685   [ 10157.628  11870.941]\n",
        "\t10170.638        430.127          19.762   [  9401.176  11113.145]\n",
        "\t9523.014         428.531          19.78    [  8759.583  10469.692]\n",
        "\t8973.032         426.371          19.75      [ 8151.496  9853.571]\n",
        "\t8503.773         423.698          19.68      [ 7684.719  9380.107]\n",
        "\t8101.297         420.576          19.576     [ 7286.272  8969.573]\n",
        "\t7754.117         417.072          19.444     [ 6950.944  8619.247]\n",
        "\t7452.764         413.251          19.291     [ 6649.256  8305.451]\n",
        "\t7189.433         409.173          19.121     [ 6416.127  8052.338]\n",
        "\t6957.692         404.892          18.936     [ 6192.953  7808.217]\n",
        "\t6752.235         400.453          18.741     [ 5993.377  7590.674]\n",
        "\t\n",
        "\t\n",
        "\tPosterior quantiles:\n",
        "\t\n",
        "\t2.5             25              50              75             97.5\n",
        "\t |---------------|===============|===============|---------------|\n",
        "\t152590.909       156524.942      158706.433     160926.295    164441.363\n",
        "\t127297.513       130504.18       132276.063     134091.471    136978.916\n",
        "\t106469.152       109015.683      110451.92      111957.015    114381.782\n",
        "\t89332.905        91334.651       92476.825      93660.124     95731.504\n",
        "\t75105.278        76712.253       77632.884      78605.958     80333.318\n",
        "\t63231.409        64656.001       65395.85       66196.707     67614.978\n",
        "\t53561.555        54692.864       55302.376      55950.755     57129.665\n",
        "\t45479.868        46463.753       46961.625      47499.224     48503.371\n",
        "\t38793.554        39652.771       40081.452      40532.786     41391.188\n",
        "\t33234.721        34016.546       34371.298      34762.628     35525.406\n",
        "\t28651.498        29332.811       29662.262      30007.615     30675.831\n",
        "\t24832.001        25449.531       25770.515      26084.942     26711.049\n",
        "\t21649.617        22225.341       22527.414      22829.399     23449.405\n",
        "\t18996.358        19560.148       19831.014      20139.067     20715.613\n",
        "\t16784.036        17332.203       17603.498      17908.986     18479.277\n",
        "\t14947.397        15478.162       15750.02       16067.691     16639.108\n",
        "\t13405.07         13929.714       14201.837      14524.408     15097.645\n",
        "\t12081.849        12640.436       12910.836      13234.302     13793.411\n",
        "\t10997.763        11556.91        11835.902      12148.259     12734.71\n",
        "\t10079.229        10652.863       10920.896      11232.659     11824.066\n",
        "\t9301.026         9890.846        10151.477      10465.06      11057.293\n",
        "\t8657.006         9246.325        9505.583       9816.488      10404.579\n",
        "\t8114.118         8698.461        8959.243       9263.306      9845.553\n",
        "\t7652.743         8229.507        8490.758       8790.652      9360.529\n",
        "\t7257.256         7828.024        8089.479       8379.17       8955.348\n",
        "\t6920.556         7481.356        7741.551       8028.665      8607.933\n",
        "\t6628.525         7183.648        7441.873       7725.705      8298.484\n",
        "\t6374.773         6923.115        7178.543       7458.964      8028.238\n",
        "\t6152.788         6694.167        6947.54        7225.345      7786.835\n",
        "\t5957.2           6492.362        6741.356       7018.593      7569.324\n",
        "\t"
       ]
      },
      {
       "output_type": "stream",
       "stream": "stdout",
       "text": [
        "\n"
       ]
      }
     ],
     "prompt_number": 17
    },
    {
     "cell_type": "markdown",
     "metadata": {},
     "source": [
      "Show the marginal distributions of the generated samples for each parameter. Continuous lines are obtained from the samples by Kernel Density Estimation (KDE). The result is an estimation of the marginal PPD of each parameter. The red lines indicate the true values."
     ]
    },
    {
     "cell_type": "code",
     "collapsed": false,
     "input": [
      "sns.set(style=\"darkgrid\")\n",
      "sns.set_context('paper')\n",
      "\n",
      "fig, axes = plt.subplots(ncols=2, figsize=(8, 2))\n",
      "\n",
      "d = sns.distplot(mcmc_smodel.trace('exposure_time')[:], \n",
      "                 hist=False, kde_kws={\"shade\": True},\n",
      "                 ax=axes[0])\n",
      "axes[0].axvline(true_exposure, color='r')\n",
      "axes[0].set_xlabel('exposure time [yr]')\n",
      "\n",
      "sns.distplot(mcmc_smodel.trace('erosion_rate')[:] * 1e4, \n",
      "             hist=False, kde_kws={\"shade\": True},\n",
      "             ax=axes[1])\n",
      "axes[1].axvline(true_erosion * 1e4, color='r')\n",
      "axes[1].set_xlabel('erosion rate [m Myr-1]')\n",
      "\n",
      "plt.setp(axes, yticks=[])"
     ],
     "language": "python",
     "metadata": {},
     "outputs": [
      {
       "metadata": {},
       "output_type": "pyout",
       "prompt_number": 18,
       "text": [
        "[]"
       ]
      },
      {
       "metadata": {},
       "output_type": "display_data",
       "png": "[encoded data removed]",
       "text": [
        "<matplotlib.figure.Figure at 0x7fac69b29b90>"
       ]
      }
     ],
     "prompt_number": 18
    },
    {
     "cell_type": "markdown",
     "metadata": {},
     "source": [
      "Join plot of the generated samples with marginals, obtained by KDE. This represents an approximation of the PPD. The red lines indicate the true values. "
     ]
    },
    {
     "cell_type": "code",
     "collapsed": false,
     "input": [
      "sns.set(style=\"white\")\n",
      "sns.set_context('paper')\n",
      "\n",
      "p = sns.jointplot(mcmc_smodel.trace('erosion_rate')[:] * 1e4,\n",
      "                  mcmc_smodel.trace('exposure_time')[:],\n",
      "                  xlim=[5, 15], ylim=[6e4, 1.4e5],\n",
      "                  kind=\"kde\", size=5, space=0)\n",
      "\n",
      "plt.setp(p.ax_joint,\n",
      "         xlabel='erosion rate [m Myr-1]',\n",
      "         ylabel='exposure time [yr]')\n",
      "\n",
      "p.ax_joint.axhline(true_exposure, color='r')\n",
      "p.ax_joint.axvline(true_erosion * 1e4, color='r')"
     ],
     "language": "python",
     "metadata": {},
     "outputs": [
      {
       "metadata": {},
       "output_type": "pyout",
       "prompt_number": 19,
       "text": [
        "<matplotlib.lines.Line2D at 0x7fac69cc0950>"
       ]
      },
      {
       "metadata": {},
       "output_type": "display_data",
       "png": "[encoded data removed]",
       "text": [
        "<matplotlib.figure.Figure at 0x7fac69cc0a50>"
       ]
      }
     ],
     "prompt_number": 19
    },
    {
     "cell_type": "markdown",
     "metadata": {},
     "source": [
      "Plot the measured concentrations vs. depth and the predicted concentration profiles corresponding to the mean and specific quantiles of the PPD. The shaded grey area indicates the 95% HPD interval.  "
     ]
    },
    {
     "cell_type": "code",
     "collapsed": false,
     "input": [
      "sns.set(style=\"darkgrid\")\n",
      "sns.set_context('paper')\n",
      "\n",
      "depths = np.linspace(profile_data['depth'].min(),\n",
      "                     profile_data['depth'].max(),\n",
      "                     100)\n",
      "\n",
      "Cm_true = models.C_10Be(depths, true_erosion, true_exposure,\n",
      "                        fixed_density, fixed_inheritance)\n",
      "\n",
      "res_erosion_rate = erosion_rate.stats()\n",
      "res_exposure_time = exposure_time.stats()\n",
      "res_mprofile = mprofile.stats()\n",
      "\n",
      "Cm_mean = models.C_10Be(depths,\n",
      "                        res_erosion_rate['mean'],\n",
      "                        res_exposure_time['mean'],\n",
      "                        fixed_density,\n",
      "                        fixed_inheritance)\n",
      "\n",
      "Cm_median = models.C_10Be(depths,\n",
      "                          res_erosion_rate['quantiles'][50],\n",
      "                          res_exposure_time['quantiles'][50],\n",
      "                          fixed_density,\n",
      "                          fixed_inheritance)\n",
      "\n",
      "plt.figure()\n",
      "plt.errorbar(profile_data['C'],\n",
      "             -profile_data['depth'],\n",
      "             xerr=profile_data['std'],\n",
      "             fmt='o', markersize=4,\n",
      "             label='data')\n",
      "plt.plot(Cm_mean, -depths, label='PPD mean')\n",
      "plt.plot(Cm_median, -depths, label='PPD median')\n",
      "plt.plot(Cm_true, -depths, color='r', label='true model')\n",
      "plt.fill_betweenx(-profile_data['depth'],\n",
      "                  res_mprofile['95% HPD interval'][:,0],\n",
      "                  res_mprofile['95% HPD interval'][:,1],\n",
      "                  color='k', alpha=0.3)\n",
      "plt.setp(plt.gca(),\n",
      "         xlabel='10Be concentration [atoms g-1]',\n",
      "         ylabel='-1 * depth [cm]',\n",
      "         xlim=[0, None], ylim=[None, 0])\n",
      "\n",
      "plt.legend(loc='lower right')"
     ],
     "language": "python",
     "metadata": {},
     "outputs": [
      {
       "metadata": {},
       "output_type": "pyout",
       "prompt_number": 20,
       "text": [
        "<matplotlib.legend.Legend at 0x7fac69c01550>"
       ]
      },
      {
       "metadata": {},
       "output_type": "display_data",
       "png": "[encoded data removed]",
       "text": [
        "<matplotlib.figure.Figure at 0x7fac6a105fd0>"
       ]
      }
     ],
     "prompt_number": 20
    },
    {
     "cell_type": "markdown",
     "metadata": {},
     "source": [
      "Show the correlation matrix of the free parameters (computed from the samples generated by MCMC)."
     ]
    },
    {
     "cell_type": "code",
     "collapsed": false,
     "input": [
      "traces = np.column_stack((mcmc_smodel.trace('erosion_rate')[:],\n",
      "                          mcmc_smodel.trace('exposure_time')[:]))\n",
      "\n",
      "traces_df = pd.DataFrame(data=traces,\n",
      "                         columns=['erosion rate', 'exposure time'])\n",
      "\n",
      "f, ax = plt.subplots()\n",
      "cmap = sns.blend_palette([\"#00008B\", \"#6A5ACD\", \"#F0F8FF\",\n",
      "                          \"#FFE6F8\", \"#C71585\", \"#8B0000\"],\n",
      "                         as_cmap=True)\n",
      "sns.corrplot(traces_df, annot=True, sig_stars=False,\n",
      "             diag_names=False, cmap=cmap, ax=ax)\n",
      "f.tight_layout()"
     ],
     "language": "python",
     "metadata": {},
     "outputs": [
      {
       "metadata": {},
       "output_type": "display_data",
       "png": "[encoded data removed]",
       "text": [
        "<matplotlib.figure.Figure at 0x7fac69d2c5d0>"
       ]
      }
     ],
     "prompt_number": 21
    },
    {
     "cell_type": "heading",
     "level": 2,
     "metadata": {},
     "source": [
      "Observations"
     ]
    },
    {
     "cell_type": "markdown",
     "metadata": {},
     "source": [
      "*2 free parameters*\n",
      "\n",
      "The results obtained here seem to be consistent with MLE with 2 parameters (see the notebooks [GS_test_2params](GS_test_2params.ipynb) and [MLE_test_2params](MLE_test_2params.ipynb))."
     ]
    },
    {
     "cell_type": "code",
     "collapsed": false,
     "input": [],
     "language": "python",
     "metadata": {},
     "outputs": []
    }
   ],
   "metadata": {}
  }
 ]
}